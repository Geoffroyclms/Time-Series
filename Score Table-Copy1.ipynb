{
 "cells": [
  {
   "cell_type": "code",
   "execution_count": 5,
   "metadata": {},
   "outputs": [],
   "source": [
    "import pandas as pd \n",
    "import numpy as np\n",
    "import quandl\n",
    "import datetime\n",
    "import math\n",
    "\n"
   ]
  },
  {
   "cell_type": "code",
   "execution_count": 6,
   "metadata": {},
   "outputs": [],
   "source": [
    "from sklearn.metrics import mean_absolute_error\n",
    "from sklearn.metrics import mean_squared_error\n",
    "from sklearn.metrics import mean_squared_log_error\n",
    "from sklearn.metrics import median_absolute_error\n",
    "\n",
    "from sklearn.metrics import explained_variance_score\n",
    "from sklearn.metrics import r2_score\n",
    "\n",
    "# https://scikit-learn.org/stable/modules/model_evaluation.html Score pour regression !!!"
   ]
  },
  {
   "cell_type": "code",
   "execution_count": 7,
   "metadata": {},
   "outputs": [
    {
     "data": {
      "text/html": [
       "<div>\n",
       "<style scoped>\n",
       "    .dataframe tbody tr th:only-of-type {\n",
       "        vertical-align: middle;\n",
       "    }\n",
       "\n",
       "    .dataframe tbody tr th {\n",
       "        vertical-align: top;\n",
       "    }\n",
       "\n",
       "    .dataframe thead th {\n",
       "        text-align: right;\n",
       "    }\n",
       "</style>\n",
       "<table border=\"1\" class=\"dataframe\">\n",
       "  <thead>\n",
       "    <tr style=\"text-align: right;\">\n",
       "      <th></th>\n",
       "      <th>Kalman</th>\n",
       "      <th>ARIMA</th>\n",
       "      <th>LSTM</th>\n",
       "      <th>RF</th>\n",
       "      <th>SVM</th>\n",
       "    </tr>\n",
       "  </thead>\n",
       "  <tbody>\n",
       "    <tr>\n",
       "      <th>AAE</th>\n",
       "      <td>0</td>\n",
       "      <td>0</td>\n",
       "      <td>0</td>\n",
       "      <td>0</td>\n",
       "      <td>0</td>\n",
       "    </tr>\n",
       "    <tr>\n",
       "      <th>MSE</th>\n",
       "      <td>0</td>\n",
       "      <td>0</td>\n",
       "      <td>0</td>\n",
       "      <td>0</td>\n",
       "      <td>0</td>\n",
       "    </tr>\n",
       "    <tr>\n",
       "      <th>MSLE</th>\n",
       "      <td>0</td>\n",
       "      <td>0</td>\n",
       "      <td>0</td>\n",
       "      <td>0</td>\n",
       "      <td>0</td>\n",
       "    </tr>\n",
       "    <tr>\n",
       "      <th>MAE</th>\n",
       "      <td>0</td>\n",
       "      <td>0</td>\n",
       "      <td>0</td>\n",
       "      <td>0</td>\n",
       "      <td>0</td>\n",
       "    </tr>\n",
       "  </tbody>\n",
       "</table>\n",
       "</div>"
      ],
      "text/plain": [
       "      Kalman  ARIMA  LSTM  RF  SVM\n",
       "AAE        0      0     0   0    0\n",
       "MSE        0      0     0   0    0\n",
       "MSLE       0      0     0   0    0\n",
       "MAE        0      0     0   0    0"
      ]
     },
     "execution_count": 7,
     "metadata": {},
     "output_type": "execute_result"
    }
   ],
   "source": [
    "#Recap fait que les Errors et donc pas des score (les erreur le plus bas le mieux les score le plus haut le mieux)\n",
    "\n",
    "price_score = pd.DataFrame(index =[\"AAE\",\"MSE\",\"MSLE\",\"MAE\"],columns=['Kalman', 'ARIMA', 'LSTM', 'RF', 'SVM']).fillna(0)\n",
    "price_score"
   ]
  },
  {
   "cell_type": "code",
   "execution_count": 8,
   "metadata": {},
   "outputs": [
    {
     "data": {
      "text/html": [
       "<div>\n",
       "<style scoped>\n",
       "    .dataframe tbody tr th:only-of-type {\n",
       "        vertical-align: middle;\n",
       "    }\n",
       "\n",
       "    .dataframe tbody tr th {\n",
       "        vertical-align: top;\n",
       "    }\n",
       "\n",
       "    .dataframe thead th {\n",
       "        text-align: right;\n",
       "    }\n",
       "</style>\n",
       "<table border=\"1\" class=\"dataframe\">\n",
       "  <thead>\n",
       "    <tr style=\"text-align: right;\">\n",
       "      <th></th>\n",
       "      <th>Kalman</th>\n",
       "      <th>ARIMA</th>\n",
       "      <th>LSTM</th>\n",
       "      <th>RF</th>\n",
       "      <th>SCM</th>\n",
       "    </tr>\n",
       "  </thead>\n",
       "  <tbody>\n",
       "    <tr>\n",
       "      <th>Price</th>\n",
       "      <td>0</td>\n",
       "      <td>0</td>\n",
       "      <td>0</td>\n",
       "      <td>0</td>\n",
       "      <td>0</td>\n",
       "    </tr>\n",
       "    <tr>\n",
       "      <th>Volatility</th>\n",
       "      <td>0</td>\n",
       "      <td>0</td>\n",
       "      <td>0</td>\n",
       "      <td>0</td>\n",
       "      <td>0</td>\n",
       "    </tr>\n",
       "    <tr>\n",
       "      <th>Log Return</th>\n",
       "      <td>0</td>\n",
       "      <td>0</td>\n",
       "      <td>0</td>\n",
       "      <td>0</td>\n",
       "      <td>0</td>\n",
       "    </tr>\n",
       "    <tr>\n",
       "      <th>Simulate ?</th>\n",
       "      <td>0</td>\n",
       "      <td>0</td>\n",
       "      <td>0</td>\n",
       "      <td>0</td>\n",
       "      <td>0</td>\n",
       "    </tr>\n",
       "  </tbody>\n",
       "</table>\n",
       "</div>"
      ],
      "text/plain": [
       "            Kalman  ARIMA  LSTM  RF  SCM\n",
       "Price            0      0     0   0    0\n",
       "Volatility       0      0     0   0    0\n",
       "Log Return       0      0     0   0    0\n",
       "Simulate ?       0      0     0   0    0"
      ]
     },
     "execution_count": 8,
     "metadata": {},
     "output_type": "execute_result"
    }
   ],
   "source": [
    "#on garde que le MSE mais sur différent jeux de donné\n",
    "df_score = pd.DataFrame(index =[\"Price\",\"Volatility\",\"Log Return\",\"Simulate ?\"],columns=['Kalman', 'ARIMA', 'LSTM', 'RF', 'SCM']).fillna(0)\n",
    "Kalman_score=[]\n",
    "ARIMA_score=[]\n",
    "LSTM_score=[]\n",
    "RF_score=[]\n",
    "SVM_score=[]\n",
    "\n",
    "df_score"
   ]
  },
  {
   "cell_type": "code",
   "execution_count": 9,
   "metadata": {},
   "outputs": [],
   "source": [
    "Data=pd.read_csv(r\"C:\\Users\\Geoffroy\\Desktop\\IT\\Projet Supélec\\Data_quandl\\Data_total.csv\")\n",
    "#Data_std=pd.read_csv(r\"C:\\Users\\Geoffroy\\Desktop\\IT\\Projet Supélec\\Data_quandl\\Data_std_total.csv\")\n",
    "#Data_logreturn=pd.read_csv(r\"C:\\Users\\Geoffroy\\Desktop\\IT\\Projet Supélec\\Data_quandl\\Data_logr_total.csv\")\n",
    "\n"
   ]
  },
  {
   "cell_type": "markdown",
   "metadata": {},
   "source": [
    "# Fonction pour calculer tous les score"
   ]
  },
  {
   "cell_type": "code",
   "execution_count": 133,
   "metadata": {},
   "outputs": [],
   "source": [
    "def clean(df,logo):\n",
    "    logo2=logo.copy()\n",
    "    for l in logo:\n",
    "        if l not in df.columns:\n",
    "            logo2.remove(l)\n",
    "    return logo2\n",
    "            \n",
    "def normalisation(df,logo2,nom_methode):\n",
    "    logo=clean(df,logo2)\n",
    "    k=logo[0]\n",
    "    m, sigma,= df[k].mean(), df[k].std(),       \n",
    "    df_n=df[[k,k+'_'+nom_methode]].apply(lambda x : (x-m)/sigma)\n",
    "    for l in logo[1:]:\n",
    "        m, sigma,= df[l].mean(), df[l].std(),\n",
    "        df_i=df[[l,l+'_'+nom_methode]].apply(lambda x : (x-m)/sigma)\n",
    "        df_n=df_n.join(df_i)\n",
    "    return df_n\n",
    "\n",
    "\n",
    "def calcul_score(df, logo,nom_methode):\n",
    "    df_n=normalisation(df,logo,nom_methode)\n",
    "    trues=[]\n",
    "    predictions=[]\n",
    "    for p in logo:\n",
    "        try:\n",
    "            l=p+'_'+nom_methode\n",
    "            trues += df_n[p].tolist()\n",
    "            predictions += df_n[l].tolist() #que chaque pred bien de la forme LOGO_Méthode \n",
    "        except:\n",
    "            pass\n",
    "    return mean_squared_error(trues,predictions)\n",
    "\n",
    "\n",
    "###########\" Avec l'ancienne normalisation\" #############\"\n",
    "def normalisation2(df,logo2,nom_methode):\n",
    "    logo=clean(df,logo2)\n",
    "    df_n=pd.DataFrame()\n",
    "    for l in logo:\n",
    "        l2=l+'_'+nom_methode\n",
    "        df_n[l]=df[l]/df[l]\n",
    "        df_n[l2]=df[l2]/df[l]\n",
    "    return df_n\n",
    "\n",
    "def calcul_score2(df, logo,nom_methode):\n",
    "    df_n=normalisation2(df,logo,nom_methode)\n",
    "    trues=[]\n",
    "    predictions=[]\n",
    "    for p in logo:\n",
    "        try:\n",
    "            l=p+'_'+nom_methode\n",
    "            trues += df_n[p].tolist()\n",
    "            predictions += df_n[l].tolist() #que chaque pred bien de la forme LOGO_Méthode \n",
    "        except:\n",
    "            pass\n",
    "    return mean_squared_error(trues,predictions)\n",
    "    \n",
    "    "
   ]
  },
  {
   "cell_type": "markdown",
   "metadata": {},
   "source": [
    "# Chargement des données"
   ]
  },
  {
   "cell_type": "code",
   "execution_count": 15,
   "metadata": {},
   "outputs": [
    {
     "data": {
      "text/html": [
       "<div>\n",
       "<style scoped>\n",
       "    .dataframe tbody tr th:only-of-type {\n",
       "        vertical-align: middle;\n",
       "    }\n",
       "\n",
       "    .dataframe tbody tr th {\n",
       "        vertical-align: top;\n",
       "    }\n",
       "\n",
       "    .dataframe thead th {\n",
       "        text-align: right;\n",
       "    }\n",
       "</style>\n",
       "<table border=\"1\" class=\"dataframe\">\n",
       "  <thead>\n",
       "    <tr style=\"text-align: right;\">\n",
       "      <th></th>\n",
       "      <th>logo</th>\n",
       "      <th>logo_pred</th>\n",
       "    </tr>\n",
       "  </thead>\n",
       "  <tbody>\n",
       "    <tr>\n",
       "      <th>0</th>\n",
       "      <td>AAPL</td>\n",
       "      <td>AAPL_Pred</td>\n",
       "    </tr>\n",
       "    <tr>\n",
       "      <th>1</th>\n",
       "      <td>ABT</td>\n",
       "      <td>ABT_Pred</td>\n",
       "    </tr>\n",
       "  </tbody>\n",
       "</table>\n",
       "</div>"
      ],
      "text/plain": [
       "   logo  logo_pred\n",
       "0  AAPL  AAPL_Pred\n",
       "1   ABT   ABT_Pred"
      ]
     },
     "execution_count": 15,
     "metadata": {},
     "output_type": "execute_result"
    }
   ],
   "source": [
    "df_cie=pd.read_csv(r\"C:\\Users\\Geoffroy\\Desktop\\IT\\Projet Supélec\\Data_quandl\\Liste_entreprise.csv\")\n",
    "df_cie=df_cie.iloc[:, 1:]\n",
    "\n",
    "logo=df_cie['logo'].tolist()\n",
    "df_cie.head(2)"
   ]
  },
  {
   "cell_type": "code",
   "execution_count": 108,
   "metadata": {
    "scrolled": false
   },
   "outputs": [
    {
     "data": {
      "text/plain": [
       "True"
      ]
     },
     "execution_count": 108,
     "metadata": {},
     "output_type": "execute_result"
    }
   ],
   "source": [
    "Kalman_pred=pd.read_csv(r\"C:\\Users\\Geoffroy\\Desktop\\IT\\Projet Supélec\\Data_quandl\\Kalman_All_and_Pred.csv\")\n",
    "Kalman_pred=Kalman_pred.set_index('Date')\n",
    "\n",
    "#Kalman_pred_std=pd.read_csv(r\"C:\\Users\\Geoffroy\\Desktop\\IT\\Projet Supélec\\Data_quandl\\Kalman_All_and_Pred_std.csv\")\n",
    "#Kalman_pred_std=Kalman_pred_std.set_index('Date')\n",
    "\n",
    "#Kalman_pred_logr=pd.read_csv(r\"C:\\Users\\Geoffroy\\Desktop\\IT\\Projet Supélec\\Data_quandl\\Kalman_All_and_Pred_logr.csv\")\n",
    "#Kalman_pred_logr=Kalman_pred_logr.set_index('Date')\n",
    "\n",
    "'AMD' not in ARIMA_pred.columns"
   ]
  },
  {
   "cell_type": "code",
   "execution_count": 70,
   "metadata": {},
   "outputs": [],
   "source": [
    "ARIMA_pred=pd.read_csv(r\"C:\\Users\\Geoffroy\\Desktop\\IT\\Projet Supélec\\Data_quandl\\ARIMA_All_and_Pred.csv\")\n",
    "ARIMA_pred=ARIMA_pred.set_index('Date')\n"
   ]
  },
  {
   "cell_type": "code",
   "execution_count": 72,
   "metadata": {},
   "outputs": [],
   "source": [
    "Lstm_pred=pd.read_csv(r\"C:\\Users\\Geoffroy\\Desktop\\IT\\Projet Supélec\\Data_quandl\\LSTM_All_and_Pred.csv\")\n",
    "Lstm_pred=Lstm_pred.set_index('Date')"
   ]
  },
  {
   "cell_type": "code",
   "execution_count": 135,
   "metadata": {},
   "outputs": [
    {
     "data": {
      "text/plain": [
       "(6.018855477072234,\n",
       " 1.3812040816253552,\n",
       " 13.163868162771063,\n",
       " 0.004105760432481327,\n",
       " 0.0005937677789747236,\n",
       " 0.005637191917386555)"
      ]
     },
     "execution_count": 135,
     "metadata": {},
     "output_type": "execute_result"
    }
   ],
   "source": [
    "calcul_score(Kalman_pred,logo,'Pred'), calcul_score(ARIMA_pred,logo,'ARIMA'), calcul_score(Lstm_pred,logo,'Pred') , calcul_score2(Kalman_pred,logo,'Pred'), calcul_score2(ARIMA_pred,logo,'ARIMA'), calcul_score2(Lstm_pred,logo,'Pred')\n",
    "\n",
    "\n"
   ]
  },
  {
   "cell_type": "markdown",
   "metadata": {},
   "source": [
    "# Pour calculer toutes les erreurs pour toutes les méthodes"
   ]
  },
  {
   "cell_type": "markdown",
   "metadata": {},
   "source": [
    "# KALMAN"
   ]
  },
  {
   "cell_type": "code",
   "execution_count": 119,
   "metadata": {},
   "outputs": [],
   "source": [
    "#Normalisation avec Pred en % du True\n",
    "\n",
    "Kalman_pred_n=pd.DataFrame()\n",
    "for l in logo:\n",
    "    l2=l+'_Pred'\n",
    "    Kalman_pred_n[l]=Kalman_pred[l]/Kalman_pred[l]\n",
    "    Kalman_pred_n[l2]=Kalman_pred[l2]/Kalman_pred[l]"
   ]
  },
  {
   "cell_type": "code",
   "execution_count": 120,
   "metadata": {
    "scrolled": true
   },
   "outputs": [
    {
     "data": {
      "text/html": [
       "<div>\n",
       "<style scoped>\n",
       "    .dataframe tbody tr th:only-of-type {\n",
       "        vertical-align: middle;\n",
       "    }\n",
       "\n",
       "    .dataframe tbody tr th {\n",
       "        vertical-align: top;\n",
       "    }\n",
       "\n",
       "    .dataframe thead th {\n",
       "        text-align: right;\n",
       "    }\n",
       "</style>\n",
       "<table border=\"1\" class=\"dataframe\">\n",
       "  <thead>\n",
       "    <tr style=\"text-align: right;\">\n",
       "      <th></th>\n",
       "      <th>AAPL</th>\n",
       "      <th>AAPL_Pred</th>\n",
       "      <th>ABT</th>\n",
       "      <th>ABT_Pred</th>\n",
       "      <th>ACN</th>\n",
       "      <th>ACN_Pred</th>\n",
       "      <th>ATVI</th>\n",
       "      <th>ATVI_Pred</th>\n",
       "      <th>ADBE</th>\n",
       "      <th>ADBE_Pred</th>\n",
       "      <th>...</th>\n",
       "      <th>AAL</th>\n",
       "      <th>AAL_Pred</th>\n",
       "      <th>BLK</th>\n",
       "      <th>BLK_Pred</th>\n",
       "      <th>CBS</th>\n",
       "      <th>CBS_Pred</th>\n",
       "      <th>MSFT</th>\n",
       "      <th>MSFT_Pred</th>\n",
       "      <th>FB</th>\n",
       "      <th>FB_Pred</th>\n",
       "    </tr>\n",
       "    <tr>\n",
       "      <th>Date</th>\n",
       "      <th></th>\n",
       "      <th></th>\n",
       "      <th></th>\n",
       "      <th></th>\n",
       "      <th></th>\n",
       "      <th></th>\n",
       "      <th></th>\n",
       "      <th></th>\n",
       "      <th></th>\n",
       "      <th></th>\n",
       "      <th></th>\n",
       "      <th></th>\n",
       "      <th></th>\n",
       "      <th></th>\n",
       "      <th></th>\n",
       "      <th></th>\n",
       "      <th></th>\n",
       "      <th></th>\n",
       "      <th></th>\n",
       "      <th></th>\n",
       "      <th></th>\n",
       "    </tr>\n",
       "  </thead>\n",
       "  <tbody>\n",
       "    <tr>\n",
       "      <th>2016-01-06</th>\n",
       "      <td>1.0</td>\n",
       "      <td>1.075931</td>\n",
       "      <td>1.0</td>\n",
       "      <td>1.044450</td>\n",
       "      <td>1.0</td>\n",
       "      <td>1.023102</td>\n",
       "      <td>1.0</td>\n",
       "      <td>1.038210</td>\n",
       "      <td>1.0</td>\n",
       "      <td>1.019687</td>\n",
       "      <td>...</td>\n",
       "      <td>1.0</td>\n",
       "      <td>1.029543</td>\n",
       "      <td>1.0</td>\n",
       "      <td>1.022956</td>\n",
       "      <td>1.0</td>\n",
       "      <td>1.023099</td>\n",
       "      <td>1.0</td>\n",
       "      <td>1.020086</td>\n",
       "      <td>1.0</td>\n",
       "      <td>1.016454</td>\n",
       "    </tr>\n",
       "    <tr>\n",
       "      <th>2016-01-07</th>\n",
       "      <td>1.0</td>\n",
       "      <td>1.111608</td>\n",
       "      <td>1.0</td>\n",
       "      <td>1.063429</td>\n",
       "      <td>1.0</td>\n",
       "      <td>1.048913</td>\n",
       "      <td>1.0</td>\n",
       "      <td>1.048044</td>\n",
       "      <td>1.0</td>\n",
       "      <td>1.037591</td>\n",
       "      <td>...</td>\n",
       "      <td>1.0</td>\n",
       "      <td>1.044697</td>\n",
       "      <td>1.0</td>\n",
       "      <td>1.063078</td>\n",
       "      <td>1.0</td>\n",
       "      <td>1.037032</td>\n",
       "      <td>1.0</td>\n",
       "      <td>1.051438</td>\n",
       "      <td>1.0</td>\n",
       "      <td>1.062324</td>\n",
       "    </tr>\n",
       "    <tr>\n",
       "      <th>2016-01-08</th>\n",
       "      <td>1.0</td>\n",
       "      <td>1.095701</td>\n",
       "      <td>1.0</td>\n",
       "      <td>1.077980</td>\n",
       "      <td>1.0</td>\n",
       "      <td>1.053539</td>\n",
       "      <td>1.0</td>\n",
       "      <td>1.058345</td>\n",
       "      <td>1.0</td>\n",
       "      <td>1.047481</td>\n",
       "      <td>...</td>\n",
       "      <td>1.0</td>\n",
       "      <td>1.042318</td>\n",
       "      <td>1.0</td>\n",
       "      <td>1.081925</td>\n",
       "      <td>1.0</td>\n",
       "      <td>1.010888</td>\n",
       "      <td>1.0</td>\n",
       "      <td>1.043636</td>\n",
       "      <td>1.0</td>\n",
       "      <td>1.062222</td>\n",
       "    </tr>\n",
       "  </tbody>\n",
       "</table>\n",
       "<p>3 rows × 28 columns</p>\n",
       "</div>"
      ],
      "text/plain": [
       "            AAPL  AAPL_Pred  ABT  ABT_Pred  ACN  ACN_Pred  ATVI  ATVI_Pred  \\\n",
       "Date                                                                         \n",
       "2016-01-06   1.0   1.075931  1.0  1.044450  1.0  1.023102   1.0   1.038210   \n",
       "2016-01-07   1.0   1.111608  1.0  1.063429  1.0  1.048913   1.0   1.048044   \n",
       "2016-01-08   1.0   1.095701  1.0  1.077980  1.0  1.053539   1.0   1.058345   \n",
       "\n",
       "            ADBE  ADBE_Pred  ...  AAL  AAL_Pred  BLK  BLK_Pred  CBS  CBS_Pred  \\\n",
       "Date                         ...                                                \n",
       "2016-01-06   1.0   1.019687  ...  1.0  1.029543  1.0  1.022956  1.0  1.023099   \n",
       "2016-01-07   1.0   1.037591  ...  1.0  1.044697  1.0  1.063078  1.0  1.037032   \n",
       "2016-01-08   1.0   1.047481  ...  1.0  1.042318  1.0  1.081925  1.0  1.010888   \n",
       "\n",
       "            MSFT  MSFT_Pred   FB   FB_Pred  \n",
       "Date                                        \n",
       "2016-01-06   1.0   1.020086  1.0  1.016454  \n",
       "2016-01-07   1.0   1.051438  1.0  1.062324  \n",
       "2016-01-08   1.0   1.043636  1.0  1.062222  \n",
       "\n",
       "[3 rows x 28 columns]"
      ]
     },
     "execution_count": 120,
     "metadata": {},
     "output_type": "execute_result"
    }
   ],
   "source": [
    "Kalman_pred_n #pour normaliser faire plutôt une \"vrai normalisation\" X-m/sigma (m et sigma du jeux de donné jusqu'au 5 janvier et pas le 8)"
   ]
  },
  {
   "cell_type": "code",
   "execution_count": null,
   "metadata": {},
   "outputs": [],
   "source": []
  },
  {
   "cell_type": "code",
   "execution_count": 122,
   "metadata": {},
   "outputs": [
    {
     "data": {
      "text/plain": [
       "[0.05308333151957322,\n",
       " 0.004105760432481327,\n",
       " 0.0009736831012384756,\n",
       " 0.04457355467622548]"
      ]
     },
     "execution_count": 122,
     "metadata": {},
     "output_type": "execute_result"
    }
   ],
   "source": [
    "Kpn=Kalman_pred_n\n",
    "\n",
    "df_score_kalman=pd.DataFrame(columns=['Companie','Mean AE','Mean SE','Mean LSE','Median AE'])\n",
    "\n",
    "\n",
    "trues=[]\n",
    "predictions=[]\n",
    "\n",
    "for l in logo:\n",
    "    for k in Kpn[l+'_Pred']:\n",
    "        trues.append(1)\n",
    "        predictions.append(k)\n",
    "        \n",
    "TSAAE = mean_absolute_error(trues,predictions)\n",
    "TSMSE = mean_squared_error(trues,predictions)\n",
    "TSMLSE= mean_squared_log_error(trues,predictions)\n",
    "TSMAE = median_absolute_error(trues,predictions)\n",
    "\n",
    "Score_kalman= [TSAAE, TSMSE, TSMLSE, TSMAE]\n",
    "Score_kalman  "
   ]
  },
  {
   "cell_type": "code",
   "execution_count": 77,
   "metadata": {
    "scrolled": true
   },
   "outputs": [
    {
     "data": {
      "text/html": [
       "<div>\n",
       "<style scoped>\n",
       "    .dataframe tbody tr th:only-of-type {\n",
       "        vertical-align: middle;\n",
       "    }\n",
       "\n",
       "    .dataframe tbody tr th {\n",
       "        vertical-align: top;\n",
       "    }\n",
       "\n",
       "    .dataframe thead th {\n",
       "        text-align: right;\n",
       "    }\n",
       "</style>\n",
       "<table border=\"1\" class=\"dataframe\">\n",
       "  <thead>\n",
       "    <tr style=\"text-align: right;\">\n",
       "      <th></th>\n",
       "      <th>Kalman</th>\n",
       "      <th>ARIMA</th>\n",
       "      <th>LSTM</th>\n",
       "      <th>RF</th>\n",
       "      <th>SCM</th>\n",
       "    </tr>\n",
       "  </thead>\n",
       "  <tbody>\n",
       "    <tr>\n",
       "      <th>AAE</th>\n",
       "      <td>5.308333</td>\n",
       "      <td>0</td>\n",
       "      <td>6.194613</td>\n",
       "      <td>0</td>\n",
       "      <td>0</td>\n",
       "    </tr>\n",
       "    <tr>\n",
       "      <th>MSE</th>\n",
       "      <td>0.410576</td>\n",
       "      <td>0</td>\n",
       "      <td>0.460283</td>\n",
       "      <td>0</td>\n",
       "      <td>0</td>\n",
       "    </tr>\n",
       "    <tr>\n",
       "      <th>MSLE</th>\n",
       "      <td>0.097368</td>\n",
       "      <td>0</td>\n",
       "      <td>0.110599</td>\n",
       "      <td>0</td>\n",
       "      <td>0</td>\n",
       "    </tr>\n",
       "    <tr>\n",
       "      <th>MAE</th>\n",
       "      <td>4.457355</td>\n",
       "      <td>0</td>\n",
       "      <td>6.306660</td>\n",
       "      <td>0</td>\n",
       "      <td>0</td>\n",
       "    </tr>\n",
       "  </tbody>\n",
       "</table>\n",
       "</div>"
      ],
      "text/plain": [
       "        Kalman  ARIMA      LSTM  RF  SCM\n",
       "AAE   5.308333      0  6.194613   0    0\n",
       "MSE   0.410576      0  0.460283   0    0\n",
       "MSLE  0.097368      0  0.110599   0    0\n",
       "MAE   4.457355      0  6.306660   0    0"
      ]
     },
     "execution_count": 77,
     "metadata": {},
     "output_type": "execute_result"
    }
   ],
   "source": [
    "price_score['Kalman']=Score_kalman\n",
    "price_score*100"
   ]
  },
  {
   "cell_type": "markdown",
   "metadata": {},
   "source": [
    "# ARIMA"
   ]
  },
  {
   "cell_type": "code",
   "execution_count": 79,
   "metadata": {},
   "outputs": [],
   "source": [
    "#Normalisation avec Pred en % du True\n",
    "\n",
    "ARIMA_pred_n=pd.DataFrame()\n",
    "\n",
    "for l in logo:\n",
    "    try:\n",
    "        l2=l+'_ARIMA'\n",
    "        ARIMA_pred_n[l]=ARIMA_pred[l]/ARIMA_pred[l]\n",
    "        ARIMA_pred_n[l2]=ARIMA_pred[l2]/ARIMA_pred[l]\n",
    "       # ARIMA_pred_n[l+'_Ecart']=abs(ARIMA_pred[l]-ARIMA_pred[l2])\n",
    "       # ARIMA_pred_n[l+'_Ecart_Carré']=(ARIMA_pred[l]-ARIMA_pred[l2])**2\n",
    "    except:\n",
    "        pass    \n"
   ]
  },
  {
   "cell_type": "code",
   "execution_count": 80,
   "metadata": {},
   "outputs": [
    {
     "data": {
      "text/html": [
       "<div>\n",
       "<style scoped>\n",
       "    .dataframe tbody tr th:only-of-type {\n",
       "        vertical-align: middle;\n",
       "    }\n",
       "\n",
       "    .dataframe tbody tr th {\n",
       "        vertical-align: top;\n",
       "    }\n",
       "\n",
       "    .dataframe thead th {\n",
       "        text-align: right;\n",
       "    }\n",
       "</style>\n",
       "<table border=\"1\" class=\"dataframe\">\n",
       "  <thead>\n",
       "    <tr style=\"text-align: right;\">\n",
       "      <th></th>\n",
       "      <th>AAPL</th>\n",
       "      <th>AAPL_ARIMA</th>\n",
       "      <th>ABT</th>\n",
       "      <th>ABT_ARIMA</th>\n",
       "      <th>ACN</th>\n",
       "      <th>ACN_ARIMA</th>\n",
       "      <th>ATVI</th>\n",
       "      <th>ATVI_ARIMA</th>\n",
       "      <th>ADBE</th>\n",
       "      <th>ADBE_ARIMA</th>\n",
       "      <th>...</th>\n",
       "      <th>AAL</th>\n",
       "      <th>AAL_ARIMA</th>\n",
       "      <th>BLK</th>\n",
       "      <th>BLK_ARIMA</th>\n",
       "      <th>CBS</th>\n",
       "      <th>CBS_ARIMA</th>\n",
       "      <th>MSFT</th>\n",
       "      <th>MSFT_ARIMA</th>\n",
       "      <th>FB</th>\n",
       "      <th>FB_ARIMA</th>\n",
       "    </tr>\n",
       "    <tr>\n",
       "      <th>Date</th>\n",
       "      <th></th>\n",
       "      <th></th>\n",
       "      <th></th>\n",
       "      <th></th>\n",
       "      <th></th>\n",
       "      <th></th>\n",
       "      <th></th>\n",
       "      <th></th>\n",
       "      <th></th>\n",
       "      <th></th>\n",
       "      <th></th>\n",
       "      <th></th>\n",
       "      <th></th>\n",
       "      <th></th>\n",
       "      <th></th>\n",
       "      <th></th>\n",
       "      <th></th>\n",
       "      <th></th>\n",
       "      <th></th>\n",
       "      <th></th>\n",
       "      <th></th>\n",
       "    </tr>\n",
       "  </thead>\n",
       "  <tbody>\n",
       "    <tr>\n",
       "      <th>2016-01-06</th>\n",
       "      <td>1.0</td>\n",
       "      <td>1.021345</td>\n",
       "      <td>1.0</td>\n",
       "      <td>1.012801</td>\n",
       "      <td>1.0</td>\n",
       "      <td>1.008709</td>\n",
       "      <td>1.0</td>\n",
       "      <td>1.017248</td>\n",
       "      <td>1.0</td>\n",
       "      <td>1.018470</td>\n",
       "      <td>...</td>\n",
       "      <td>1.0</td>\n",
       "      <td>0.979203</td>\n",
       "      <td>1.0</td>\n",
       "      <td>1.012402</td>\n",
       "      <td>1.0</td>\n",
       "      <td>1.000295</td>\n",
       "      <td>1.0</td>\n",
       "      <td>1.020406</td>\n",
       "      <td>1.0</td>\n",
       "      <td>1.004899</td>\n",
       "    </tr>\n",
       "    <tr>\n",
       "      <th>2016-01-07</th>\n",
       "      <td>1.0</td>\n",
       "      <td>1.047155</td>\n",
       "      <td>1.0</td>\n",
       "      <td>1.030537</td>\n",
       "      <td>1.0</td>\n",
       "      <td>1.034452</td>\n",
       "      <td>1.0</td>\n",
       "      <td>1.023293</td>\n",
       "      <td>1.0</td>\n",
       "      <td>1.025335</td>\n",
       "      <td>...</td>\n",
       "      <td>1.0</td>\n",
       "      <td>1.022079</td>\n",
       "      <td>1.0</td>\n",
       "      <td>1.044991</td>\n",
       "      <td>1.0</td>\n",
       "      <td>1.015816</td>\n",
       "      <td>1.0</td>\n",
       "      <td>1.036193</td>\n",
       "      <td>1.0</td>\n",
       "      <td>1.057753</td>\n",
       "    </tr>\n",
       "    <tr>\n",
       "      <th>2016-01-08</th>\n",
       "      <td>1.0</td>\n",
       "      <td>0.997380</td>\n",
       "      <td>1.0</td>\n",
       "      <td>1.022318</td>\n",
       "      <td>1.0</td>\n",
       "      <td>1.015683</td>\n",
       "      <td>1.0</td>\n",
       "      <td>1.019786</td>\n",
       "      <td>1.0</td>\n",
       "      <td>1.017983</td>\n",
       "      <td>...</td>\n",
       "      <td>1.0</td>\n",
       "      <td>0.998049</td>\n",
       "      <td>1.0</td>\n",
       "      <td>1.025591</td>\n",
       "      <td>1.0</td>\n",
       "      <td>0.974842</td>\n",
       "      <td>1.0</td>\n",
       "      <td>0.995309</td>\n",
       "      <td>1.0</td>\n",
       "      <td>1.002205</td>\n",
       "    </tr>\n",
       "  </tbody>\n",
       "</table>\n",
       "<p>3 rows × 26 columns</p>\n",
       "</div>"
      ],
      "text/plain": [
       "            AAPL  AAPL_ARIMA  ABT  ABT_ARIMA  ACN  ACN_ARIMA  ATVI  \\\n",
       "Date                                                                 \n",
       "2016-01-06   1.0    1.021345  1.0   1.012801  1.0   1.008709   1.0   \n",
       "2016-01-07   1.0    1.047155  1.0   1.030537  1.0   1.034452   1.0   \n",
       "2016-01-08   1.0    0.997380  1.0   1.022318  1.0   1.015683   1.0   \n",
       "\n",
       "            ATVI_ARIMA  ADBE  ADBE_ARIMA  ...  AAL  AAL_ARIMA  BLK  BLK_ARIMA  \\\n",
       "Date                                      ...                                   \n",
       "2016-01-06    1.017248   1.0    1.018470  ...  1.0   0.979203  1.0   1.012402   \n",
       "2016-01-07    1.023293   1.0    1.025335  ...  1.0   1.022079  1.0   1.044991   \n",
       "2016-01-08    1.019786   1.0    1.017983  ...  1.0   0.998049  1.0   1.025591   \n",
       "\n",
       "            CBS  CBS_ARIMA  MSFT  MSFT_ARIMA   FB  FB_ARIMA  \n",
       "Date                                                         \n",
       "2016-01-06  1.0   1.000295   1.0    1.020406  1.0  1.004899  \n",
       "2016-01-07  1.0   1.015816   1.0    1.036193  1.0  1.057753  \n",
       "2016-01-08  1.0   0.974842   1.0    0.995309  1.0  1.002205  \n",
       "\n",
       "[3 rows x 26 columns]"
      ]
     },
     "execution_count": 80,
     "metadata": {},
     "output_type": "execute_result"
    }
   ],
   "source": [
    "ARIMA_pred_n"
   ]
  },
  {
   "cell_type": "code",
   "execution_count": 81,
   "metadata": {},
   "outputs": [
    {
     "data": {
      "text/plain": [
       "[0.0199111963524565,\n",
       " 0.0005937677789747236,\n",
       " 0.0001459038195184978,\n",
       " 0.018469500061139232]"
      ]
     },
     "execution_count": 81,
     "metadata": {},
     "output_type": "execute_result"
    }
   ],
   "source": [
    "Apn=ARIMA_pred_n\n",
    "\n",
    "df_score_kalman=pd.DataFrame(columns=['Companie','Mean AE','Mean SE','Mean LSE','Median AE'])\n",
    "\n",
    "\n",
    "trues=[]\n",
    "predictions=[]\n",
    "\n",
    "for p in logo:\n",
    "    try:\n",
    "        l=p+'_ARIMA'\n",
    "        for k in Apn[l]:\n",
    "            trues.append(1)\n",
    "            predictions.append(k)\n",
    "    except:\n",
    "        pass\n",
    "        \n",
    "TSAAE = mean_absolute_error(trues,predictions)\n",
    "TSMSE = mean_squared_error(trues,predictions)\n",
    "TSMLSE= mean_squared_log_error(trues,predictions)\n",
    "TSMAE = median_absolute_error(trues,predictions)\n",
    "\n",
    "Score_ARIMA= [TSAAE, TSMSE, TSMLSE, TSMAE]\n",
    "Score_ARIMA  "
   ]
  },
  {
   "cell_type": "code",
   "execution_count": 82,
   "metadata": {},
   "outputs": [
    {
     "data": {
      "text/html": [
       "<div>\n",
       "<style scoped>\n",
       "    .dataframe tbody tr th:only-of-type {\n",
       "        vertical-align: middle;\n",
       "    }\n",
       "\n",
       "    .dataframe tbody tr th {\n",
       "        vertical-align: top;\n",
       "    }\n",
       "\n",
       "    .dataframe thead th {\n",
       "        text-align: right;\n",
       "    }\n",
       "</style>\n",
       "<table border=\"1\" class=\"dataframe\">\n",
       "  <thead>\n",
       "    <tr style=\"text-align: right;\">\n",
       "      <th></th>\n",
       "      <th>Kalman</th>\n",
       "      <th>ARIMA</th>\n",
       "      <th>LSTM</th>\n",
       "      <th>RF</th>\n",
       "      <th>SCM</th>\n",
       "    </tr>\n",
       "  </thead>\n",
       "  <tbody>\n",
       "    <tr>\n",
       "      <th>AAE</th>\n",
       "      <td>5.308333</td>\n",
       "      <td>1.991120</td>\n",
       "      <td>6.194613</td>\n",
       "      <td>0</td>\n",
       "      <td>0</td>\n",
       "    </tr>\n",
       "    <tr>\n",
       "      <th>MSE</th>\n",
       "      <td>0.410576</td>\n",
       "      <td>0.059377</td>\n",
       "      <td>0.460283</td>\n",
       "      <td>0</td>\n",
       "      <td>0</td>\n",
       "    </tr>\n",
       "    <tr>\n",
       "      <th>MSLE</th>\n",
       "      <td>0.097368</td>\n",
       "      <td>0.014590</td>\n",
       "      <td>0.110599</td>\n",
       "      <td>0</td>\n",
       "      <td>0</td>\n",
       "    </tr>\n",
       "    <tr>\n",
       "      <th>MAE</th>\n",
       "      <td>4.457355</td>\n",
       "      <td>1.846950</td>\n",
       "      <td>6.306660</td>\n",
       "      <td>0</td>\n",
       "      <td>0</td>\n",
       "    </tr>\n",
       "  </tbody>\n",
       "</table>\n",
       "</div>"
      ],
      "text/plain": [
       "        Kalman     ARIMA      LSTM  RF  SCM\n",
       "AAE   5.308333  1.991120  6.194613   0    0\n",
       "MSE   0.410576  0.059377  0.460283   0    0\n",
       "MSLE  0.097368  0.014590  0.110599   0    0\n",
       "MAE   4.457355  1.846950  6.306660   0    0"
      ]
     },
     "execution_count": 82,
     "metadata": {},
     "output_type": "execute_result"
    }
   ],
   "source": [
    "price_score['ARIMA']=Score_ARIMA\n",
    "price_score*100"
   ]
  },
  {
   "cell_type": "markdown",
   "metadata": {},
   "source": [
    "# LSTM"
   ]
  },
  {
   "cell_type": "markdown",
   "metadata": {},
   "source": [
    "##               LSTM Price "
   ]
  },
  {
   "cell_type": "code",
   "execution_count": 124,
   "metadata": {},
   "outputs": [],
   "source": [
    "#Normalisation avec Pred en % du True\n",
    "\n",
    "Lstm_pred_n=pd.DataFrame()\n",
    "for l in logo:\n",
    "    l2=l+'_Pred'\n",
    "    Lstm_pred_n[l]=Lstm_pred[l]/Lstm_pred[l]\n",
    "    Lstm_pred_n[l2]=Lstm_pred[l2]/Lstm_pred[l]\n",
    "    Lstm_pred_n[l+'_Ecart']=abs(Lstm_pred_n[l]-Lstm_pred_n[l2])\n",
    "    Lstm_pred_n[l+'_Ecart_Carré']=(Lstm_pred_n[l]-Lstm_pred_n[l2])**2\n",
    "\n"
   ]
  },
  {
   "cell_type": "code",
   "execution_count": 125,
   "metadata": {},
   "outputs": [
    {
     "data": {
      "text/html": [
       "<div>\n",
       "<style scoped>\n",
       "    .dataframe tbody tr th:only-of-type {\n",
       "        vertical-align: middle;\n",
       "    }\n",
       "\n",
       "    .dataframe tbody tr th {\n",
       "        vertical-align: top;\n",
       "    }\n",
       "\n",
       "    .dataframe thead th {\n",
       "        text-align: right;\n",
       "    }\n",
       "</style>\n",
       "<table border=\"1\" class=\"dataframe\">\n",
       "  <thead>\n",
       "    <tr style=\"text-align: right;\">\n",
       "      <th></th>\n",
       "      <th>AAPL</th>\n",
       "      <th>AAPL_Pred</th>\n",
       "    </tr>\n",
       "    <tr>\n",
       "      <th>Date</th>\n",
       "      <th></th>\n",
       "      <th></th>\n",
       "    </tr>\n",
       "  </thead>\n",
       "  <tbody>\n",
       "    <tr>\n",
       "      <th>2016-01-06</th>\n",
       "      <td>1.0</td>\n",
       "      <td>1.055950</td>\n",
       "    </tr>\n",
       "    <tr>\n",
       "      <th>2016-01-07</th>\n",
       "      <td>1.0</td>\n",
       "      <td>1.091931</td>\n",
       "    </tr>\n",
       "    <tr>\n",
       "      <th>2016-01-08</th>\n",
       "      <td>1.0</td>\n",
       "      <td>1.121563</td>\n",
       "    </tr>\n",
       "  </tbody>\n",
       "</table>\n",
       "</div>"
      ],
      "text/plain": [
       "            AAPL  AAPL_Pred\n",
       "Date                       \n",
       "2016-01-06   1.0   1.055950\n",
       "2016-01-07   1.0   1.091931\n",
       "2016-01-08   1.0   1.121563"
      ]
     },
     "execution_count": 125,
     "metadata": {},
     "output_type": "execute_result"
    }
   ],
   "source": [
    "Lstm_pred_n[['AAPL','AAPL_Pred']]"
   ]
  },
  {
   "cell_type": "markdown",
   "metadata": {},
   "source": [
    "####  Calcul des scores"
   ]
  },
  {
   "cell_type": "code",
   "execution_count": 131,
   "metadata": {},
   "outputs": [
    {
     "data": {
      "text/plain": [
       "[0.0658468180645321,\n",
       " 0.005637191917386555,\n",
       " 0.0013490339895733934,\n",
       " 0.06759237687977027]"
      ]
     },
     "execution_count": 131,
     "metadata": {},
     "output_type": "execute_result"
    }
   ],
   "source": [
    "Lpn=Lstm_pred_n\n",
    "df_score_lstm=pd.DataFrame(columns=['Companie','Mean AE','Mean SE','Mean LSE','Median AE'])\n",
    "\n",
    "trues=[]\n",
    "predictions=[]\n",
    "\n",
    "for l in logo:\n",
    "    for k in Lpn[l+'_Pred']:\n",
    "        trues.append(1)\n",
    "        predictions.append(k)\n",
    "        \n",
    "TSAAE = mean_absolute_error(trues,predictions)\n",
    "TSMSE = mean_squared_error(trues,predictions)\n",
    "TSMLSE= mean_squared_log_error(trues,predictions)\n",
    "TSMAE = median_absolute_error(trues,predictions)\n",
    "\n",
    "Score_lstm= [TSAAE, TSMSE, TSMLSE, TSMAE]\n",
    "Score_lstm  "
   ]
  },
  {
   "cell_type": "code",
   "execution_count": 132,
   "metadata": {
    "scrolled": true
   },
   "outputs": [
    {
     "data": {
      "text/html": [
       "<div>\n",
       "<style scoped>\n",
       "    .dataframe tbody tr th:only-of-type {\n",
       "        vertical-align: middle;\n",
       "    }\n",
       "\n",
       "    .dataframe tbody tr th {\n",
       "        vertical-align: top;\n",
       "    }\n",
       "\n",
       "    .dataframe thead th {\n",
       "        text-align: right;\n",
       "    }\n",
       "</style>\n",
       "<table border=\"1\" class=\"dataframe\">\n",
       "  <thead>\n",
       "    <tr style=\"text-align: right;\">\n",
       "      <th></th>\n",
       "      <th>Kalman</th>\n",
       "      <th>ARIMA</th>\n",
       "      <th>LSTM</th>\n",
       "      <th>RF</th>\n",
       "      <th>SVM</th>\n",
       "    </tr>\n",
       "  </thead>\n",
       "  <tbody>\n",
       "    <tr>\n",
       "      <th>AAE</th>\n",
       "      <td>0</td>\n",
       "      <td>0</td>\n",
       "      <td>6.584682</td>\n",
       "      <td>0</td>\n",
       "      <td>0</td>\n",
       "    </tr>\n",
       "    <tr>\n",
       "      <th>MSE</th>\n",
       "      <td>0</td>\n",
       "      <td>0</td>\n",
       "      <td>0.563719</td>\n",
       "      <td>0</td>\n",
       "      <td>0</td>\n",
       "    </tr>\n",
       "    <tr>\n",
       "      <th>MSLE</th>\n",
       "      <td>0</td>\n",
       "      <td>0</td>\n",
       "      <td>0.134903</td>\n",
       "      <td>0</td>\n",
       "      <td>0</td>\n",
       "    </tr>\n",
       "    <tr>\n",
       "      <th>MAE</th>\n",
       "      <td>0</td>\n",
       "      <td>0</td>\n",
       "      <td>6.759238</td>\n",
       "      <td>0</td>\n",
       "      <td>0</td>\n",
       "    </tr>\n",
       "  </tbody>\n",
       "</table>\n",
       "</div>"
      ],
      "text/plain": [
       "      Kalman  ARIMA      LSTM  RF  SVM\n",
       "AAE        0      0  6.584682   0    0\n",
       "MSE        0      0  0.563719   0    0\n",
       "MSLE       0      0  0.134903   0    0\n",
       "MAE        0      0  6.759238   0    0"
      ]
     },
     "execution_count": 132,
     "metadata": {},
     "output_type": "execute_result"
    }
   ],
   "source": [
    "price_score['LSTM']=Score_lstm\n",
    "price_score*100"
   ]
  },
  {
   "cell_type": "code",
   "execution_count": null,
   "metadata": {},
   "outputs": [],
   "source": []
  },
  {
   "cell_type": "code",
   "execution_count": null,
   "metadata": {},
   "outputs": [],
   "source": []
  },
  {
   "cell_type": "code",
   "execution_count": 2,
   "metadata": {},
   "outputs": [],
   "source": [
    "#SVM pas SCM, méthode qui décalle que de un jour\n",
    "#Faire une ligne volatilité une price et une return (pas besoin de prendre 4 error mais en selectionner une -MSE)"
   ]
  },
  {
   "cell_type": "code",
   "execution_count": null,
   "metadata": {},
   "outputs": [],
   "source": []
  },
  {
   "cell_type": "code",
   "execution_count": null,
   "metadata": {},
   "outputs": [],
   "source": []
  },
  {
   "cell_type": "code",
   "execution_count": null,
   "metadata": {},
   "outputs": [],
   "source": []
  }
 ],
 "metadata": {
  "kernelspec": {
   "display_name": "Python 3",
   "language": "python",
   "name": "python3"
  },
  "language_info": {
   "codemirror_mode": {
    "name": "ipython",
    "version": 3
   },
   "file_extension": ".py",
   "mimetype": "text/x-python",
   "name": "python",
   "nbconvert_exporter": "python",
   "pygments_lexer": "ipython3",
   "version": "3.7.3"
  }
 },
 "nbformat": 4,
 "nbformat_minor": 2
}
