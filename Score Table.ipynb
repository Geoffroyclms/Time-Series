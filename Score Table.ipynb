{
 "cells": [
  {
   "cell_type": "code",
   "execution_count": 60,
   "metadata": {},
   "outputs": [],
   "source": [
    "import pandas as pd \n",
    "import numpy as np\n",
    "import quandl\n",
    "import datetime\n",
    "import math\n",
    "\n"
   ]
  },
  {
   "cell_type": "code",
   "execution_count": 74,
   "metadata": {},
   "outputs": [
    {
     "data": {
      "text/html": [
       "<div>\n",
       "<style scoped>\n",
       "    .dataframe tbody tr th:only-of-type {\n",
       "        vertical-align: middle;\n",
       "    }\n",
       "\n",
       "    .dataframe tbody tr th {\n",
       "        vertical-align: top;\n",
       "    }\n",
       "\n",
       "    .dataframe thead th {\n",
       "        text-align: right;\n",
       "    }\n",
       "</style>\n",
       "<table border=\"1\" class=\"dataframe\">\n",
       "  <thead>\n",
       "    <tr style=\"text-align: right;\">\n",
       "      <th></th>\n",
       "      <th>GARCH</th>\n",
       "      <th>ARIMA</th>\n",
       "      <th>LSTM</th>\n",
       "      <th>ML2</th>\n",
       "      <th>ML3</th>\n",
       "    </tr>\n",
       "  </thead>\n",
       "  <tbody>\n",
       "    <tr>\n",
       "      <th>Valeur absolue</th>\n",
       "      <td>0</td>\n",
       "      <td>0</td>\n",
       "      <td>0</td>\n",
       "      <td>0</td>\n",
       "      <td>0</td>\n",
       "    </tr>\n",
       "    <tr>\n",
       "      <th>Distance Euclidienne</th>\n",
       "      <td>0</td>\n",
       "      <td>0</td>\n",
       "      <td>0</td>\n",
       "      <td>0</td>\n",
       "      <td>0</td>\n",
       "    </tr>\n",
       "    <tr>\n",
       "      <th>Score3</th>\n",
       "      <td>0</td>\n",
       "      <td>0</td>\n",
       "      <td>0</td>\n",
       "      <td>0</td>\n",
       "      <td>0</td>\n",
       "    </tr>\n",
       "  </tbody>\n",
       "</table>\n",
       "</div>"
      ],
      "text/plain": [
       "                      GARCH  ARIMA  LSTM  ML2  ML3\n",
       "Valeur absolue            0      0     0    0    0\n",
       "Distance Euclidienne      0      0     0    0    0\n",
       "Score3                    0      0     0    0    0"
      ]
     },
     "execution_count": 74,
     "metadata": {},
     "output_type": "execute_result"
    }
   ],
   "source": [
    "recap = pd.DataFrame(index =[\"Valeur absolue\",\"Distance Euclidienne\",\"Score3\"],columns=['GARCH', 'ARIMA', 'LSTM', 'ML2', 'ML3']).fillna(0)\n",
    "recap"
   ]
  },
  {
   "cell_type": "code",
   "execution_count": 142,
   "metadata": {},
   "outputs": [],
   "source": [
    "companies=['AAPL','ABT','ACN','ATVI','ADBE','AMD','GOOGL','GOOG','AMZN','AAL','BLK','CBS'] # 'BA' fait n'imp\n",
    "#companies"
   ]
  },
  {
   "cell_type": "code",
   "execution_count": 143,
   "metadata": {},
   "outputs": [
    {
     "ename": "UnicodeDecodeError",
     "evalue": "'utf-8' codec can't decode byte 0xe9 in position 39: invalid continuation byte",
     "output_type": "error",
     "traceback": [
      "\u001b[1;31m---------------------------------------------------------------------------\u001b[0m",
      "\u001b[1;31mUnicodeDecodeError\u001b[0m                        Traceback (most recent call last)",
      "\u001b[1;32m<ipython-input-143-db21556cb2b5>\u001b[0m in \u001b[0;36m<module>\u001b[1;34m\u001b[0m\n\u001b[0;32m      8\u001b[0m     \u001b[0mpath\u001b[0m\u001b[1;33m=\u001b[0m\u001b[1;34mr\"C:\\Users\\Geoffroy\\Desktop\\IT\\Projet Supélec\\Code\\lstm_16_17_\"\u001b[0m\u001b[1;33m+\u001b[0m\u001b[0ml\u001b[0m\u001b[1;33m+\u001b[0m\u001b[1;34m\".csv\"\u001b[0m \u001b[1;31m#Ordi Fixe Geoffroy\u001b[0m\u001b[1;33m\u001b[0m\u001b[1;33m\u001b[0m\u001b[0m\n\u001b[0;32m      9\u001b[0m     \u001b[1;31m#path=r\"C:\\Users\\Geoffroy\\Desktop\\IT\\Projet Supélec\\Code\\lstm_16_17_\"+l+\".csv\" #Ordi Portable Geoffroy\u001b[0m\u001b[1;33m\u001b[0m\u001b[1;33m\u001b[0m\u001b[1;33m\u001b[0m\u001b[0m\n\u001b[1;32m---> 10\u001b[1;33m     \u001b[0mdf\u001b[0m\u001b[1;33m=\u001b[0m\u001b[0mpd\u001b[0m\u001b[1;33m.\u001b[0m\u001b[0mread_csv\u001b[0m\u001b[1;33m(\u001b[0m\u001b[0mpath\u001b[0m\u001b[1;33m)\u001b[0m\u001b[1;33m\u001b[0m\u001b[1;33m\u001b[0m\u001b[0m\n\u001b[0m\u001b[0;32m     11\u001b[0m     \u001b[1;31m#df=pd.read_csv(\"C:\\Users\\Geoffroy\\Desktop\\IT\\Projet Supélec\\SP500.xlsx\") #PC Portable Geoffroy\u001b[0m\u001b[1;33m\u001b[0m\u001b[1;33m\u001b[0m\u001b[1;33m\u001b[0m\u001b[0m\n\u001b[0;32m     12\u001b[0m     \u001b[0mV_abs\u001b[0m \u001b[1;33m=\u001b[0m \u001b[0mdf\u001b[0m\u001b[1;33m[\u001b[0m\u001b[1;34m'Ecart'\u001b[0m\u001b[1;33m]\u001b[0m\u001b[1;33m.\u001b[0m\u001b[0mmean\u001b[0m\u001b[1;33m(\u001b[0m\u001b[1;33m)\u001b[0m\u001b[1;33m\u001b[0m\u001b[1;33m\u001b[0m\u001b[0m\n",
      "\u001b[1;32mD:\\04.Programme\\Anaconda\\envs\\tensorflow_env\\lib\\site-packages\\pandas\\io\\parsers.py\u001b[0m in \u001b[0;36mparser_f\u001b[1;34m(filepath_or_buffer, sep, delimiter, header, names, index_col, usecols, squeeze, prefix, mangle_dupe_cols, dtype, engine, converters, true_values, false_values, skipinitialspace, skiprows, skipfooter, nrows, na_values, keep_default_na, na_filter, verbose, skip_blank_lines, parse_dates, infer_datetime_format, keep_date_col, date_parser, dayfirst, iterator, chunksize, compression, thousands, decimal, lineterminator, quotechar, quoting, doublequote, escapechar, comment, encoding, dialect, tupleize_cols, error_bad_lines, warn_bad_lines, delim_whitespace, low_memory, memory_map, float_precision)\u001b[0m\n\u001b[0;32m    700\u001b[0m                     skip_blank_lines=skip_blank_lines)\n\u001b[0;32m    701\u001b[0m \u001b[1;33m\u001b[0m\u001b[0m\n\u001b[1;32m--> 702\u001b[1;33m         \u001b[1;32mreturn\u001b[0m \u001b[0m_read\u001b[0m\u001b[1;33m(\u001b[0m\u001b[0mfilepath_or_buffer\u001b[0m\u001b[1;33m,\u001b[0m \u001b[0mkwds\u001b[0m\u001b[1;33m)\u001b[0m\u001b[1;33m\u001b[0m\u001b[1;33m\u001b[0m\u001b[0m\n\u001b[0m\u001b[0;32m    703\u001b[0m \u001b[1;33m\u001b[0m\u001b[0m\n\u001b[0;32m    704\u001b[0m     \u001b[0mparser_f\u001b[0m\u001b[1;33m.\u001b[0m\u001b[0m__name__\u001b[0m \u001b[1;33m=\u001b[0m \u001b[0mname\u001b[0m\u001b[1;33m\u001b[0m\u001b[1;33m\u001b[0m\u001b[0m\n",
      "\u001b[1;32mD:\\04.Programme\\Anaconda\\envs\\tensorflow_env\\lib\\site-packages\\pandas\\io\\parsers.py\u001b[0m in \u001b[0;36m_read\u001b[1;34m(filepath_or_buffer, kwds)\u001b[0m\n\u001b[0;32m    427\u001b[0m \u001b[1;33m\u001b[0m\u001b[0m\n\u001b[0;32m    428\u001b[0m     \u001b[1;31m# Create the parser.\u001b[0m\u001b[1;33m\u001b[0m\u001b[1;33m\u001b[0m\u001b[1;33m\u001b[0m\u001b[0m\n\u001b[1;32m--> 429\u001b[1;33m     \u001b[0mparser\u001b[0m \u001b[1;33m=\u001b[0m \u001b[0mTextFileReader\u001b[0m\u001b[1;33m(\u001b[0m\u001b[0mfilepath_or_buffer\u001b[0m\u001b[1;33m,\u001b[0m \u001b[1;33m**\u001b[0m\u001b[0mkwds\u001b[0m\u001b[1;33m)\u001b[0m\u001b[1;33m\u001b[0m\u001b[1;33m\u001b[0m\u001b[0m\n\u001b[0m\u001b[0;32m    430\u001b[0m \u001b[1;33m\u001b[0m\u001b[0m\n\u001b[0;32m    431\u001b[0m     \u001b[1;32mif\u001b[0m \u001b[0mchunksize\u001b[0m \u001b[1;32mor\u001b[0m \u001b[0miterator\u001b[0m\u001b[1;33m:\u001b[0m\u001b[1;33m\u001b[0m\u001b[1;33m\u001b[0m\u001b[0m\n",
      "\u001b[1;32mD:\\04.Programme\\Anaconda\\envs\\tensorflow_env\\lib\\site-packages\\pandas\\io\\parsers.py\u001b[0m in \u001b[0;36m__init__\u001b[1;34m(self, f, engine, **kwds)\u001b[0m\n\u001b[0;32m    893\u001b[0m             \u001b[0mself\u001b[0m\u001b[1;33m.\u001b[0m\u001b[0moptions\u001b[0m\u001b[1;33m[\u001b[0m\u001b[1;34m'has_index_names'\u001b[0m\u001b[1;33m]\u001b[0m \u001b[1;33m=\u001b[0m \u001b[0mkwds\u001b[0m\u001b[1;33m[\u001b[0m\u001b[1;34m'has_index_names'\u001b[0m\u001b[1;33m]\u001b[0m\u001b[1;33m\u001b[0m\u001b[1;33m\u001b[0m\u001b[0m\n\u001b[0;32m    894\u001b[0m \u001b[1;33m\u001b[0m\u001b[0m\n\u001b[1;32m--> 895\u001b[1;33m         \u001b[0mself\u001b[0m\u001b[1;33m.\u001b[0m\u001b[0m_make_engine\u001b[0m\u001b[1;33m(\u001b[0m\u001b[0mself\u001b[0m\u001b[1;33m.\u001b[0m\u001b[0mengine\u001b[0m\u001b[1;33m)\u001b[0m\u001b[1;33m\u001b[0m\u001b[1;33m\u001b[0m\u001b[0m\n\u001b[0m\u001b[0;32m    896\u001b[0m \u001b[1;33m\u001b[0m\u001b[0m\n\u001b[0;32m    897\u001b[0m     \u001b[1;32mdef\u001b[0m \u001b[0mclose\u001b[0m\u001b[1;33m(\u001b[0m\u001b[0mself\u001b[0m\u001b[1;33m)\u001b[0m\u001b[1;33m:\u001b[0m\u001b[1;33m\u001b[0m\u001b[1;33m\u001b[0m\u001b[0m\n",
      "\u001b[1;32mD:\\04.Programme\\Anaconda\\envs\\tensorflow_env\\lib\\site-packages\\pandas\\io\\parsers.py\u001b[0m in \u001b[0;36m_make_engine\u001b[1;34m(self, engine)\u001b[0m\n\u001b[0;32m   1120\u001b[0m     \u001b[1;32mdef\u001b[0m \u001b[0m_make_engine\u001b[0m\u001b[1;33m(\u001b[0m\u001b[0mself\u001b[0m\u001b[1;33m,\u001b[0m \u001b[0mengine\u001b[0m\u001b[1;33m=\u001b[0m\u001b[1;34m'c'\u001b[0m\u001b[1;33m)\u001b[0m\u001b[1;33m:\u001b[0m\u001b[1;33m\u001b[0m\u001b[1;33m\u001b[0m\u001b[0m\n\u001b[0;32m   1121\u001b[0m         \u001b[1;32mif\u001b[0m \u001b[0mengine\u001b[0m \u001b[1;33m==\u001b[0m \u001b[1;34m'c'\u001b[0m\u001b[1;33m:\u001b[0m\u001b[1;33m\u001b[0m\u001b[1;33m\u001b[0m\u001b[0m\n\u001b[1;32m-> 1122\u001b[1;33m             \u001b[0mself\u001b[0m\u001b[1;33m.\u001b[0m\u001b[0m_engine\u001b[0m \u001b[1;33m=\u001b[0m \u001b[0mCParserWrapper\u001b[0m\u001b[1;33m(\u001b[0m\u001b[0mself\u001b[0m\u001b[1;33m.\u001b[0m\u001b[0mf\u001b[0m\u001b[1;33m,\u001b[0m \u001b[1;33m**\u001b[0m\u001b[0mself\u001b[0m\u001b[1;33m.\u001b[0m\u001b[0moptions\u001b[0m\u001b[1;33m)\u001b[0m\u001b[1;33m\u001b[0m\u001b[1;33m\u001b[0m\u001b[0m\n\u001b[0m\u001b[0;32m   1123\u001b[0m         \u001b[1;32melse\u001b[0m\u001b[1;33m:\u001b[0m\u001b[1;33m\u001b[0m\u001b[1;33m\u001b[0m\u001b[0m\n\u001b[0;32m   1124\u001b[0m             \u001b[1;32mif\u001b[0m \u001b[0mengine\u001b[0m \u001b[1;33m==\u001b[0m \u001b[1;34m'python'\u001b[0m\u001b[1;33m:\u001b[0m\u001b[1;33m\u001b[0m\u001b[1;33m\u001b[0m\u001b[0m\n",
      "\u001b[1;32mD:\\04.Programme\\Anaconda\\envs\\tensorflow_env\\lib\\site-packages\\pandas\\io\\parsers.py\u001b[0m in \u001b[0;36m__init__\u001b[1;34m(self, src, **kwds)\u001b[0m\n\u001b[0;32m   1851\u001b[0m         \u001b[0mkwds\u001b[0m\u001b[1;33m[\u001b[0m\u001b[1;34m'usecols'\u001b[0m\u001b[1;33m]\u001b[0m \u001b[1;33m=\u001b[0m \u001b[0mself\u001b[0m\u001b[1;33m.\u001b[0m\u001b[0musecols\u001b[0m\u001b[1;33m\u001b[0m\u001b[1;33m\u001b[0m\u001b[0m\n\u001b[0;32m   1852\u001b[0m \u001b[1;33m\u001b[0m\u001b[0m\n\u001b[1;32m-> 1853\u001b[1;33m         \u001b[0mself\u001b[0m\u001b[1;33m.\u001b[0m\u001b[0m_reader\u001b[0m \u001b[1;33m=\u001b[0m \u001b[0mparsers\u001b[0m\u001b[1;33m.\u001b[0m\u001b[0mTextReader\u001b[0m\u001b[1;33m(\u001b[0m\u001b[0msrc\u001b[0m\u001b[1;33m,\u001b[0m \u001b[1;33m**\u001b[0m\u001b[0mkwds\u001b[0m\u001b[1;33m)\u001b[0m\u001b[1;33m\u001b[0m\u001b[1;33m\u001b[0m\u001b[0m\n\u001b[0m\u001b[0;32m   1854\u001b[0m         \u001b[0mself\u001b[0m\u001b[1;33m.\u001b[0m\u001b[0munnamed_cols\u001b[0m \u001b[1;33m=\u001b[0m \u001b[0mself\u001b[0m\u001b[1;33m.\u001b[0m\u001b[0m_reader\u001b[0m\u001b[1;33m.\u001b[0m\u001b[0munnamed_cols\u001b[0m\u001b[1;33m\u001b[0m\u001b[1;33m\u001b[0m\u001b[0m\n\u001b[0;32m   1855\u001b[0m \u001b[1;33m\u001b[0m\u001b[0m\n",
      "\u001b[1;32mpandas/_libs/parsers.pyx\u001b[0m in \u001b[0;36mpandas._libs.parsers.TextReader.__cinit__\u001b[1;34m()\u001b[0m\n",
      "\u001b[1;32mpandas/_libs/parsers.pyx\u001b[0m in \u001b[0;36mpandas._libs.parsers.TextReader._setup_parser_source\u001b[1;34m()\u001b[0m\n",
      "\u001b[1;32mD:\\04.Programme\\Anaconda\\envs\\tensorflow_env\\lib\\genericpath.py\u001b[0m in \u001b[0;36mexists\u001b[1;34m(path)\u001b[0m\n\u001b[0;32m     17\u001b[0m     \u001b[1;34m\"\"\"Test whether a path exists.  Returns False for broken symbolic links\"\"\"\u001b[0m\u001b[1;33m\u001b[0m\u001b[1;33m\u001b[0m\u001b[0m\n\u001b[0;32m     18\u001b[0m     \u001b[1;32mtry\u001b[0m\u001b[1;33m:\u001b[0m\u001b[1;33m\u001b[0m\u001b[1;33m\u001b[0m\u001b[0m\n\u001b[1;32m---> 19\u001b[1;33m         \u001b[0mos\u001b[0m\u001b[1;33m.\u001b[0m\u001b[0mstat\u001b[0m\u001b[1;33m(\u001b[0m\u001b[0mpath\u001b[0m\u001b[1;33m)\u001b[0m\u001b[1;33m\u001b[0m\u001b[1;33m\u001b[0m\u001b[0m\n\u001b[0m\u001b[0;32m     20\u001b[0m     \u001b[1;32mexcept\u001b[0m \u001b[0mOSError\u001b[0m\u001b[1;33m:\u001b[0m\u001b[1;33m\u001b[0m\u001b[1;33m\u001b[0m\u001b[0m\n\u001b[0;32m     21\u001b[0m         \u001b[1;32mreturn\u001b[0m \u001b[1;32mFalse\u001b[0m\u001b[1;33m\u001b[0m\u001b[1;33m\u001b[0m\u001b[0m\n",
      "\u001b[1;31mUnicodeDecodeError\u001b[0m: 'utf-8' codec can't decode byte 0xe9 in position 39: invalid continuation byte"
     ]
    }
   ],
   "source": [
    "L_abs = []\n",
    "L_abs_per = []\n",
    "L_eucli = []\n",
    "L_eucli_per =[]\n",
    "\n",
    "\n",
    "for l in companies: \n",
    "    path=r\"C:\\Users\\Geoffroy\\Desktop\\IT\\Projet Supélec\\Code\\lstm_16_17_\"+l+\".csv\" #Ordi Fixe Geoffroy\n",
    "    #path=r\"C:\\Users\\Geoffroy\\Desktop\\IT\\Projet Supélec\\Code\\lstm_16_17_\"+l+\".csv\" #Ordi Portable Geoffroy\n",
    "    df=pd.read_csv(path) \n",
    "    #df=pd.read_csv(\"C:\\Users\\Geoffroy\\Desktop\\IT\\Projet Supélec\\SP500.xlsx\") #PC Portable Geoffroy\n",
    "    V_abs = df['Ecart'].mean()\n",
    "    V_abs_perc = V_abs/(df['True Close'].tolist()[-1])\n",
    "    V_eucli = ((df['Ecart']**2).mean())**(1/2)\n",
    "    V_eucli_per =V_eucli/(df['True Close'].tolist()[-1])\n",
    "    L_abs.append([l ,V_abs])\n",
    "    L_abs_per.append([l,V_abs_perc])\n",
    "    L_eucli.append([l,V_eucli])\n",
    "    L_eucli_per.append([l,V_eucli_per])\n",
    "\n",
    "\n",
    "                          \n"
   ]
  },
  {
   "cell_type": "code",
   "execution_count": 131,
   "metadata": {},
   "outputs": [
    {
     "data": {
      "text/html": [
       "<style  type=\"text/css\" >\n",
       "</style><table id=\"T_02ba4d8a_7757_11e9_988c_1c1b0d440015\" ><thead>    <tr>        <th class=\"blank level0\" ></th>        <th class=\"col_heading level0 col0\" >Valeur Absolue</th>        <th class=\"col_heading level0 col1\" >Moindres Carrées</th>    </tr>    <tr>        <th class=\"index_name level0\" >Entreprise</th>        <th class=\"blank\" ></th>        <th class=\"blank\" ></th>    </tr></thead><tbody>\n",
       "                <tr>\n",
       "                        <th id=\"T_02ba4d8a_7757_11e9_988c_1c1b0d440015level0_row0\" class=\"row_heading level0 row0\" >AAPL</th>\n",
       "                        <td id=\"T_02ba4d8a_7757_11e9_988c_1c1b0d440015row0_col0\" class=\"data row0 col0\" >6.41%</td>\n",
       "                        <td id=\"T_02ba4d8a_7757_11e9_988c_1c1b0d440015row0_col1\" class=\"data row0 col1\" >8.01%</td>\n",
       "            </tr>\n",
       "            <tr>\n",
       "                        <th id=\"T_02ba4d8a_7757_11e9_988c_1c1b0d440015level0_row1\" class=\"row_heading level0 row1\" >ABT</th>\n",
       "                        <td id=\"T_02ba4d8a_7757_11e9_988c_1c1b0d440015row1_col0\" class=\"data row1 col0\" >88.37%</td>\n",
       "                        <td id=\"T_02ba4d8a_7757_11e9_988c_1c1b0d440015row1_col1\" class=\"data row1 col1\" >151.55%</td>\n",
       "            </tr>\n",
       "            <tr>\n",
       "                        <th id=\"T_02ba4d8a_7757_11e9_988c_1c1b0d440015level0_row2\" class=\"row_heading level0 row2\" >ACN</th>\n",
       "                        <td id=\"T_02ba4d8a_7757_11e9_988c_1c1b0d440015row2_col0\" class=\"data row2 col0\" >2.49%</td>\n",
       "                        <td id=\"T_02ba4d8a_7757_11e9_988c_1c1b0d440015row2_col1\" class=\"data row2 col1\" >2.71%</td>\n",
       "            </tr>\n",
       "            <tr>\n",
       "                        <th id=\"T_02ba4d8a_7757_11e9_988c_1c1b0d440015level0_row3\" class=\"row_heading level0 row3\" >ATVI</th>\n",
       "                        <td id=\"T_02ba4d8a_7757_11e9_988c_1c1b0d440015row3_col0\" class=\"data row3 col0\" >5.27%</td>\n",
       "                        <td id=\"T_02ba4d8a_7757_11e9_988c_1c1b0d440015row3_col1\" class=\"data row3 col1\" >6.29%</td>\n",
       "            </tr>\n",
       "            <tr>\n",
       "                        <th id=\"T_02ba4d8a_7757_11e9_988c_1c1b0d440015level0_row4\" class=\"row_heading level0 row4\" >ADBE</th>\n",
       "                        <td id=\"T_02ba4d8a_7757_11e9_988c_1c1b0d440015row4_col0\" class=\"data row4 col0\" >6.98%</td>\n",
       "                        <td id=\"T_02ba4d8a_7757_11e9_988c_1c1b0d440015row4_col1\" class=\"data row4 col1\" >7.98%</td>\n",
       "            </tr>\n",
       "            <tr>\n",
       "                        <th id=\"T_02ba4d8a_7757_11e9_988c_1c1b0d440015level0_row5\" class=\"row_heading level0 row5\" >AMD</th>\n",
       "                        <td id=\"T_02ba4d8a_7757_11e9_988c_1c1b0d440015row5_col0\" class=\"data row5 col0\" >31.61%</td>\n",
       "                        <td id=\"T_02ba4d8a_7757_11e9_988c_1c1b0d440015row5_col1\" class=\"data row5 col1\" >33.43%</td>\n",
       "            </tr>\n",
       "            <tr>\n",
       "                        <th id=\"T_02ba4d8a_7757_11e9_988c_1c1b0d440015level0_row6\" class=\"row_heading level0 row6\" >GOOGL</th>\n",
       "                        <td id=\"T_02ba4d8a_7757_11e9_988c_1c1b0d440015row6_col0\" class=\"data row6 col0\" >1.86%</td>\n",
       "                        <td id=\"T_02ba4d8a_7757_11e9_988c_1c1b0d440015row6_col1\" class=\"data row6 col1\" >2.10%</td>\n",
       "            </tr>\n",
       "            <tr>\n",
       "                        <th id=\"T_02ba4d8a_7757_11e9_988c_1c1b0d440015level0_row7\" class=\"row_heading level0 row7\" >GOOG</th>\n",
       "                        <td id=\"T_02ba4d8a_7757_11e9_988c_1c1b0d440015row7_col0\" class=\"data row7 col0\" >3.16%</td>\n",
       "                        <td id=\"T_02ba4d8a_7757_11e9_988c_1c1b0d440015row7_col1\" class=\"data row7 col1\" >4.37%</td>\n",
       "            </tr>\n",
       "            <tr>\n",
       "                        <th id=\"T_02ba4d8a_7757_11e9_988c_1c1b0d440015level0_row8\" class=\"row_heading level0 row8\" >AMZN</th>\n",
       "                        <td id=\"T_02ba4d8a_7757_11e9_988c_1c1b0d440015row8_col0\" class=\"data row8 col0\" >2.02%</td>\n",
       "                        <td id=\"T_02ba4d8a_7757_11e9_988c_1c1b0d440015row8_col1\" class=\"data row8 col1\" >2.35%</td>\n",
       "            </tr>\n",
       "            <tr>\n",
       "                        <th id=\"T_02ba4d8a_7757_11e9_988c_1c1b0d440015level0_row9\" class=\"row_heading level0 row9\" >AAL</th>\n",
       "                        <td id=\"T_02ba4d8a_7757_11e9_988c_1c1b0d440015row9_col0\" class=\"data row9 col0\" >9.78%</td>\n",
       "                        <td id=\"T_02ba4d8a_7757_11e9_988c_1c1b0d440015row9_col1\" class=\"data row9 col1\" >10.47%</td>\n",
       "            </tr>\n",
       "            <tr>\n",
       "                        <th id=\"T_02ba4d8a_7757_11e9_988c_1c1b0d440015level0_row10\" class=\"row_heading level0 row10\" >BLK</th>\n",
       "                        <td id=\"T_02ba4d8a_7757_11e9_988c_1c1b0d440015row10_col0\" class=\"data row10 col0\" >3.17%</td>\n",
       "                        <td id=\"T_02ba4d8a_7757_11e9_988c_1c1b0d440015row10_col1\" class=\"data row10 col1\" >3.41%</td>\n",
       "            </tr>\n",
       "    </tbody></table>"
      ],
      "text/plain": [
       "<pandas.io.formats.style.Styler at 0x1801f62e278>"
      ]
     },
     "execution_count": 131,
     "metadata": {},
     "output_type": "execute_result"
    }
   ],
   "source": [
    "df_absp= pd.DataFrame(L_abs_per)\n",
    "df_ep = pd.DataFrame(L_eucli_per)\n",
    "\n",
    "df_absp.columns=['Entreprise','Valeur Absolue']\n",
    "df_ep.columns=['Entreprise','Moindres Carrées']\n",
    "\n",
    "df_absp=df_absp.set_index('Entreprise')\n",
    "df_ep=df_ep.set_index('Entreprise')\n",
    "\n",
    "dfscore=df_absp.join(df_ep)\n",
    "dfscore.style.format(\"{:.2%}\")\n",
    "\n",
    "#Score 3 cross entrop y ? probleme car nos valeurs sont pas entre 0 et 1...\n",
    "\n",
    "\n"
   ]
  },
  {
   "cell_type": "code",
   "execution_count": 141,
   "metadata": {},
   "outputs": [
    {
     "data": {
      "text/html": [
       "<style  type=\"text/css\" >\n",
       "</style><table id=\"T_479852ec_7757_11e9_9c75_1c1b0d440015\" ><thead>    <tr>        <th class=\"blank level0\" ></th>        <th class=\"col_heading level0 col0\" >GARCH</th>        <th class=\"col_heading level0 col1\" >ARIMA</th>        <th class=\"col_heading level0 col2\" >LSTM</th>        <th class=\"col_heading level0 col3\" >ML2</th>        <th class=\"col_heading level0 col4\" >ML3</th>    </tr></thead><tbody>\n",
       "                <tr>\n",
       "                        <th id=\"T_479852ec_7757_11e9_9c75_1c1b0d440015level0_row0\" class=\"row_heading level0 row0\" >Valeur absolue</th>\n",
       "                        <td id=\"T_479852ec_7757_11e9_9c75_1c1b0d440015row0_col0\" class=\"data row0 col0\" >0.00%</td>\n",
       "                        <td id=\"T_479852ec_7757_11e9_9c75_1c1b0d440015row0_col1\" class=\"data row0 col1\" >0.00%</td>\n",
       "                        <td id=\"T_479852ec_7757_11e9_9c75_1c1b0d440015row0_col2\" class=\"data row0 col2\" >14.65%</td>\n",
       "                        <td id=\"T_479852ec_7757_11e9_9c75_1c1b0d440015row0_col3\" class=\"data row0 col3\" >0.00%</td>\n",
       "                        <td id=\"T_479852ec_7757_11e9_9c75_1c1b0d440015row0_col4\" class=\"data row0 col4\" >0.00%</td>\n",
       "            </tr>\n",
       "            <tr>\n",
       "                        <th id=\"T_479852ec_7757_11e9_9c75_1c1b0d440015level0_row1\" class=\"row_heading level0 row1\" >Distance Euclidienne</th>\n",
       "                        <td id=\"T_479852ec_7757_11e9_9c75_1c1b0d440015row1_col0\" class=\"data row1 col0\" >0.00%</td>\n",
       "                        <td id=\"T_479852ec_7757_11e9_9c75_1c1b0d440015row1_col1\" class=\"data row1 col1\" >0.00%</td>\n",
       "                        <td id=\"T_479852ec_7757_11e9_9c75_1c1b0d440015row1_col2\" class=\"data row1 col2\" >21.15%</td>\n",
       "                        <td id=\"T_479852ec_7757_11e9_9c75_1c1b0d440015row1_col3\" class=\"data row1 col3\" >0.00%</td>\n",
       "                        <td id=\"T_479852ec_7757_11e9_9c75_1c1b0d440015row1_col4\" class=\"data row1 col4\" >0.00%</td>\n",
       "            </tr>\n",
       "            <tr>\n",
       "                        <th id=\"T_479852ec_7757_11e9_9c75_1c1b0d440015level0_row2\" class=\"row_heading level0 row2\" >Score3</th>\n",
       "                        <td id=\"T_479852ec_7757_11e9_9c75_1c1b0d440015row2_col0\" class=\"data row2 col0\" >0.00%</td>\n",
       "                        <td id=\"T_479852ec_7757_11e9_9c75_1c1b0d440015row2_col1\" class=\"data row2 col1\" >0.00%</td>\n",
       "                        <td id=\"T_479852ec_7757_11e9_9c75_1c1b0d440015row2_col2\" class=\"data row2 col2\" >0.00%</td>\n",
       "                        <td id=\"T_479852ec_7757_11e9_9c75_1c1b0d440015row2_col3\" class=\"data row2 col3\" >0.00%</td>\n",
       "                        <td id=\"T_479852ec_7757_11e9_9c75_1c1b0d440015row2_col4\" class=\"data row2 col4\" >0.00%</td>\n",
       "            </tr>\n",
       "    </tbody></table>"
      ],
      "text/plain": [
       "<pandas.io.formats.style.Styler at 0x1801e86bda0>"
      ]
     },
     "execution_count": 141,
     "metadata": {},
     "output_type": "execute_result"
    }
   ],
   "source": [
    "VA=dfscore['Valeur Absolue'].mean()\n",
    "VMC=dfscore['Moindres Carrées'].mean()\n",
    "Score3 = 0\n",
    "recap['LSTM']=[VA,VMC,Score3]\n",
    "\n",
    "recap.style.format(\"{:.2%}\")\n",
    "\n"
   ]
  },
  {
   "cell_type": "markdown",
   "metadata": {},
   "source": [
    "# Données Financières"
   ]
  },
  {
   "cell_type": "code",
   "execution_count": 140,
   "metadata": {},
   "outputs": [
    {
     "name": "stderr",
     "output_type": "stream",
     "text": [
      "D:\\04.Programme\\Anaconda\\envs\\tensorflow_env\\lib\\site-packages\\pandas\\util\\_decorators.py:188: FutureWarning: The `sheetname` keyword is deprecated, use `sheet_name` instead\n",
      "  return func(*args, **kwargs)\n"
     ]
    },
    {
     "ename": "FileNotFoundError",
     "evalue": "[Errno 2] No such file or directory: 'C:\\\\Users\\\\Geoffroy\\\\Desktop\\\\IT\\\\Projet Supélec\\\\Data\\\\Entreprises_S&P.xlsx'",
     "output_type": "error",
     "traceback": [
      "\u001b[1;31m---------------------------------------------------------------------------\u001b[0m",
      "\u001b[1;31mFileNotFoundError\u001b[0m                         Traceback (most recent call last)",
      "\u001b[1;32m<ipython-input-140-366a0e020ed2>\u001b[0m in \u001b[0;36m<module>\u001b[1;34m\u001b[0m\n\u001b[1;32m----> 1\u001b[1;33m \u001b[0mS\u001b[0m \u001b[1;33m=\u001b[0m \u001b[0mpd\u001b[0m\u001b[1;33m.\u001b[0m\u001b[0mread_excel\u001b[0m\u001b[1;33m(\u001b[0m\u001b[1;34mr\"C:\\Users\\Geoffroy\\Desktop\\IT\\Projet Supélec\\Data\\Entreprises_S&P.xlsx\"\u001b[0m\u001b[1;33m,\u001b[0m \u001b[0msheetname\u001b[0m\u001b[1;33m=\u001b[0m\u001b[1;34m'Feuil1'\u001b[0m\u001b[1;33m)\u001b[0m\u001b[1;33m\u001b[0m\u001b[1;33m\u001b[0m\u001b[0m\n\u001b[0m\u001b[0;32m      2\u001b[0m \u001b[0mlogo\u001b[0m\u001b[1;33m=\u001b[0m\u001b[0mlist\u001b[0m\u001b[1;33m(\u001b[0m\u001b[0mS\u001b[0m\u001b[1;33m[\u001b[0m\u001b[1;34m'Logo'\u001b[0m\u001b[1;33m]\u001b[0m\u001b[1;33m)\u001b[0m\u001b[1;33m[\u001b[0m\u001b[1;33m:\u001b[0m\u001b[1;36m3\u001b[0m\u001b[1;33m]\u001b[0m \u001b[1;31m#3 mi ici pour une question de temps\u001b[0m\u001b[1;33m\u001b[0m\u001b[1;33m\u001b[0m\u001b[0m\n\u001b[0;32m      3\u001b[0m \u001b[0mstart\u001b[0m \u001b[1;33m=\u001b[0m \u001b[0mdatetime\u001b[0m\u001b[1;33m.\u001b[0m\u001b[0mdatetime\u001b[0m\u001b[1;33m(\u001b[0m\u001b[1;36m2005\u001b[0m\u001b[1;33m,\u001b[0m\u001b[1;36m1\u001b[0m\u001b[1;33m,\u001b[0m\u001b[1;36m1\u001b[0m\u001b[1;33m)\u001b[0m\u001b[1;33m\u001b[0m\u001b[1;33m\u001b[0m\u001b[0m\n\u001b[0;32m      4\u001b[0m \u001b[0mend\u001b[0m \u001b[1;33m=\u001b[0m \u001b[0mdatetime\u001b[0m\u001b[1;33m.\u001b[0m\u001b[0mdate\u001b[0m\u001b[1;33m.\u001b[0m\u001b[0mtoday\u001b[0m\u001b[1;33m(\u001b[0m\u001b[1;33m)\u001b[0m\u001b[1;33m\u001b[0m\u001b[1;33m\u001b[0m\u001b[0m\n",
      "\u001b[1;32mD:\\04.Programme\\Anaconda\\envs\\tensorflow_env\\lib\\site-packages\\pandas\\util\\_decorators.py\u001b[0m in \u001b[0;36mwrapper\u001b[1;34m(*args, **kwargs)\u001b[0m\n\u001b[0;32m    186\u001b[0m                 \u001b[1;32melse\u001b[0m\u001b[1;33m:\u001b[0m\u001b[1;33m\u001b[0m\u001b[1;33m\u001b[0m\u001b[0m\n\u001b[0;32m    187\u001b[0m                     \u001b[0mkwargs\u001b[0m\u001b[1;33m[\u001b[0m\u001b[0mnew_arg_name\u001b[0m\u001b[1;33m]\u001b[0m \u001b[1;33m=\u001b[0m \u001b[0mnew_arg_value\u001b[0m\u001b[1;33m\u001b[0m\u001b[1;33m\u001b[0m\u001b[0m\n\u001b[1;32m--> 188\u001b[1;33m             \u001b[1;32mreturn\u001b[0m \u001b[0mfunc\u001b[0m\u001b[1;33m(\u001b[0m\u001b[1;33m*\u001b[0m\u001b[0margs\u001b[0m\u001b[1;33m,\u001b[0m \u001b[1;33m**\u001b[0m\u001b[0mkwargs\u001b[0m\u001b[1;33m)\u001b[0m\u001b[1;33m\u001b[0m\u001b[1;33m\u001b[0m\u001b[0m\n\u001b[0m\u001b[0;32m    189\u001b[0m         \u001b[1;32mreturn\u001b[0m \u001b[0mwrapper\u001b[0m\u001b[1;33m\u001b[0m\u001b[1;33m\u001b[0m\u001b[0m\n\u001b[0;32m    190\u001b[0m     \u001b[1;32mreturn\u001b[0m \u001b[0m_deprecate_kwarg\u001b[0m\u001b[1;33m\u001b[0m\u001b[1;33m\u001b[0m\u001b[0m\n",
      "\u001b[1;32mD:\\04.Programme\\Anaconda\\envs\\tensorflow_env\\lib\\site-packages\\pandas\\util\\_decorators.py\u001b[0m in \u001b[0;36mwrapper\u001b[1;34m(*args, **kwargs)\u001b[0m\n\u001b[0;32m    186\u001b[0m                 \u001b[1;32melse\u001b[0m\u001b[1;33m:\u001b[0m\u001b[1;33m\u001b[0m\u001b[1;33m\u001b[0m\u001b[0m\n\u001b[0;32m    187\u001b[0m                     \u001b[0mkwargs\u001b[0m\u001b[1;33m[\u001b[0m\u001b[0mnew_arg_name\u001b[0m\u001b[1;33m]\u001b[0m \u001b[1;33m=\u001b[0m \u001b[0mnew_arg_value\u001b[0m\u001b[1;33m\u001b[0m\u001b[1;33m\u001b[0m\u001b[0m\n\u001b[1;32m--> 188\u001b[1;33m             \u001b[1;32mreturn\u001b[0m \u001b[0mfunc\u001b[0m\u001b[1;33m(\u001b[0m\u001b[1;33m*\u001b[0m\u001b[0margs\u001b[0m\u001b[1;33m,\u001b[0m \u001b[1;33m**\u001b[0m\u001b[0mkwargs\u001b[0m\u001b[1;33m)\u001b[0m\u001b[1;33m\u001b[0m\u001b[1;33m\u001b[0m\u001b[0m\n\u001b[0m\u001b[0;32m    189\u001b[0m         \u001b[1;32mreturn\u001b[0m \u001b[0mwrapper\u001b[0m\u001b[1;33m\u001b[0m\u001b[1;33m\u001b[0m\u001b[0m\n\u001b[0;32m    190\u001b[0m     \u001b[1;32mreturn\u001b[0m \u001b[0m_deprecate_kwarg\u001b[0m\u001b[1;33m\u001b[0m\u001b[1;33m\u001b[0m\u001b[0m\n",
      "\u001b[1;32mD:\\04.Programme\\Anaconda\\envs\\tensorflow_env\\lib\\site-packages\\pandas\\io\\excel.py\u001b[0m in \u001b[0;36mread_excel\u001b[1;34m(io, sheet_name, header, names, index_col, parse_cols, usecols, squeeze, dtype, engine, converters, true_values, false_values, skiprows, nrows, na_values, keep_default_na, verbose, parse_dates, date_parser, thousands, comment, skip_footer, skipfooter, convert_float, mangle_dupe_cols, **kwds)\u001b[0m\n\u001b[0;32m    348\u001b[0m \u001b[1;33m\u001b[0m\u001b[0m\n\u001b[0;32m    349\u001b[0m     \u001b[1;32mif\u001b[0m \u001b[1;32mnot\u001b[0m \u001b[0misinstance\u001b[0m\u001b[1;33m(\u001b[0m\u001b[0mio\u001b[0m\u001b[1;33m,\u001b[0m \u001b[0mExcelFile\u001b[0m\u001b[1;33m)\u001b[0m\u001b[1;33m:\u001b[0m\u001b[1;33m\u001b[0m\u001b[1;33m\u001b[0m\u001b[0m\n\u001b[1;32m--> 350\u001b[1;33m         \u001b[0mio\u001b[0m \u001b[1;33m=\u001b[0m \u001b[0mExcelFile\u001b[0m\u001b[1;33m(\u001b[0m\u001b[0mio\u001b[0m\u001b[1;33m,\u001b[0m \u001b[0mengine\u001b[0m\u001b[1;33m=\u001b[0m\u001b[0mengine\u001b[0m\u001b[1;33m)\u001b[0m\u001b[1;33m\u001b[0m\u001b[1;33m\u001b[0m\u001b[0m\n\u001b[0m\u001b[0;32m    351\u001b[0m \u001b[1;33m\u001b[0m\u001b[0m\n\u001b[0;32m    352\u001b[0m     return io.parse(\n",
      "\u001b[1;32mD:\\04.Programme\\Anaconda\\envs\\tensorflow_env\\lib\\site-packages\\pandas\\io\\excel.py\u001b[0m in \u001b[0;36m__init__\u001b[1;34m(self, io, engine)\u001b[0m\n\u001b[0;32m    651\u001b[0m         \u001b[0mself\u001b[0m\u001b[1;33m.\u001b[0m\u001b[0m_io\u001b[0m \u001b[1;33m=\u001b[0m \u001b[0m_stringify_path\u001b[0m\u001b[1;33m(\u001b[0m\u001b[0mio\u001b[0m\u001b[1;33m)\u001b[0m\u001b[1;33m\u001b[0m\u001b[1;33m\u001b[0m\u001b[0m\n\u001b[0;32m    652\u001b[0m \u001b[1;33m\u001b[0m\u001b[0m\n\u001b[1;32m--> 653\u001b[1;33m         \u001b[0mself\u001b[0m\u001b[1;33m.\u001b[0m\u001b[0m_reader\u001b[0m \u001b[1;33m=\u001b[0m \u001b[0mself\u001b[0m\u001b[1;33m.\u001b[0m\u001b[0m_engines\u001b[0m\u001b[1;33m[\u001b[0m\u001b[0mengine\u001b[0m\u001b[1;33m]\u001b[0m\u001b[1;33m(\u001b[0m\u001b[0mself\u001b[0m\u001b[1;33m.\u001b[0m\u001b[0m_io\u001b[0m\u001b[1;33m)\u001b[0m\u001b[1;33m\u001b[0m\u001b[1;33m\u001b[0m\u001b[0m\n\u001b[0m\u001b[0;32m    654\u001b[0m \u001b[1;33m\u001b[0m\u001b[0m\n\u001b[0;32m    655\u001b[0m     \u001b[1;32mdef\u001b[0m \u001b[0m__fspath__\u001b[0m\u001b[1;33m(\u001b[0m\u001b[0mself\u001b[0m\u001b[1;33m)\u001b[0m\u001b[1;33m:\u001b[0m\u001b[1;33m\u001b[0m\u001b[1;33m\u001b[0m\u001b[0m\n",
      "\u001b[1;32mD:\\04.Programme\\Anaconda\\envs\\tensorflow_env\\lib\\site-packages\\pandas\\io\\excel.py\u001b[0m in \u001b[0;36m__init__\u001b[1;34m(self, filepath_or_buffer)\u001b[0m\n\u001b[0;32m    422\u001b[0m             \u001b[0mself\u001b[0m\u001b[1;33m.\u001b[0m\u001b[0mbook\u001b[0m \u001b[1;33m=\u001b[0m \u001b[0mxlrd\u001b[0m\u001b[1;33m.\u001b[0m\u001b[0mopen_workbook\u001b[0m\u001b[1;33m(\u001b[0m\u001b[0mfile_contents\u001b[0m\u001b[1;33m=\u001b[0m\u001b[0mdata\u001b[0m\u001b[1;33m)\u001b[0m\u001b[1;33m\u001b[0m\u001b[1;33m\u001b[0m\u001b[0m\n\u001b[0;32m    423\u001b[0m         \u001b[1;32melif\u001b[0m \u001b[0misinstance\u001b[0m\u001b[1;33m(\u001b[0m\u001b[0mfilepath_or_buffer\u001b[0m\u001b[1;33m,\u001b[0m \u001b[0mcompat\u001b[0m\u001b[1;33m.\u001b[0m\u001b[0mstring_types\u001b[0m\u001b[1;33m)\u001b[0m\u001b[1;33m:\u001b[0m\u001b[1;33m\u001b[0m\u001b[1;33m\u001b[0m\u001b[0m\n\u001b[1;32m--> 424\u001b[1;33m             \u001b[0mself\u001b[0m\u001b[1;33m.\u001b[0m\u001b[0mbook\u001b[0m \u001b[1;33m=\u001b[0m \u001b[0mxlrd\u001b[0m\u001b[1;33m.\u001b[0m\u001b[0mopen_workbook\u001b[0m\u001b[1;33m(\u001b[0m\u001b[0mfilepath_or_buffer\u001b[0m\u001b[1;33m)\u001b[0m\u001b[1;33m\u001b[0m\u001b[1;33m\u001b[0m\u001b[0m\n\u001b[0m\u001b[0;32m    425\u001b[0m         \u001b[1;32melse\u001b[0m\u001b[1;33m:\u001b[0m\u001b[1;33m\u001b[0m\u001b[1;33m\u001b[0m\u001b[0m\n\u001b[0;32m    426\u001b[0m             raise ValueError('Must explicitly set engine if not passing in'\n",
      "\u001b[1;32mD:\\04.Programme\\Anaconda\\envs\\tensorflow_env\\lib\\site-packages\\xlrd\\__init__.py\u001b[0m in \u001b[0;36mopen_workbook\u001b[1;34m(filename, logfile, verbosity, use_mmap, file_contents, encoding_override, formatting_info, on_demand, ragged_rows)\u001b[0m\n\u001b[0;32m    109\u001b[0m     \u001b[1;32melse\u001b[0m\u001b[1;33m:\u001b[0m\u001b[1;33m\u001b[0m\u001b[1;33m\u001b[0m\u001b[0m\n\u001b[0;32m    110\u001b[0m         \u001b[0mfilename\u001b[0m \u001b[1;33m=\u001b[0m \u001b[0mos\u001b[0m\u001b[1;33m.\u001b[0m\u001b[0mpath\u001b[0m\u001b[1;33m.\u001b[0m\u001b[0mexpanduser\u001b[0m\u001b[1;33m(\u001b[0m\u001b[0mfilename\u001b[0m\u001b[1;33m)\u001b[0m\u001b[1;33m\u001b[0m\u001b[1;33m\u001b[0m\u001b[0m\n\u001b[1;32m--> 111\u001b[1;33m         \u001b[1;32mwith\u001b[0m \u001b[0mopen\u001b[0m\u001b[1;33m(\u001b[0m\u001b[0mfilename\u001b[0m\u001b[1;33m,\u001b[0m \u001b[1;34m\"rb\"\u001b[0m\u001b[1;33m)\u001b[0m \u001b[1;32mas\u001b[0m \u001b[0mf\u001b[0m\u001b[1;33m:\u001b[0m\u001b[1;33m\u001b[0m\u001b[1;33m\u001b[0m\u001b[0m\n\u001b[0m\u001b[0;32m    112\u001b[0m             \u001b[0mpeek\u001b[0m \u001b[1;33m=\u001b[0m \u001b[0mf\u001b[0m\u001b[1;33m.\u001b[0m\u001b[0mread\u001b[0m\u001b[1;33m(\u001b[0m\u001b[0mpeeksz\u001b[0m\u001b[1;33m)\u001b[0m\u001b[1;33m\u001b[0m\u001b[1;33m\u001b[0m\u001b[0m\n\u001b[0;32m    113\u001b[0m     \u001b[1;32mif\u001b[0m \u001b[0mpeek\u001b[0m \u001b[1;33m==\u001b[0m \u001b[1;34mb\"PK\\x03\\x04\"\u001b[0m\u001b[1;33m:\u001b[0m \u001b[1;31m# a ZIP file\u001b[0m\u001b[1;33m\u001b[0m\u001b[1;33m\u001b[0m\u001b[0m\n",
      "\u001b[1;31mFileNotFoundError\u001b[0m: [Errno 2] No such file or directory: 'C:\\\\Users\\\\Geoffroy\\\\Desktop\\\\IT\\\\Projet Supélec\\\\Data\\\\Entreprises_S&P.xlsx'"
     ]
    }
   ],
   "source": [
    "S = pd.read_excel(r\"C:\\Users\\Geoffroy\\Desktop\\IT\\Projet Supélec\\Data\\Entreprises_S&P.xlsx\", sheetname='Feuil1')\n",
    "logo=list(S['Logo'])[:3] #3 mi ici pour une question de temps\n",
    "start = datetime.datetime(2005,1,1)\n",
    "end = datetime.date.today()"
   ]
  },
  {
   "cell_type": "code",
   "execution_count": 125,
   "metadata": {},
   "outputs": [],
   "source": [
    "data_fi=pd.DataFrame({logo[0] : quandl.get(\"WIKI/\" +logo[0] , start_date=start, end_date=end)['Adj. Close']})\n",
    "\n",
    "for l in logo[1:]:\n",
    "    data=pd.DataFrame({l : quandl.get(\"WIKI/\" +l , start_date=start, end_date=end)['Adj. Close']})\n",
    "    data_fi=data_fi.join(data)\n",
    "    \n",
    "\n",
    "#data_fi.to_excel('Data Financière.xlsx')\n",
    "#data_fi.to_csv('Data Financière.csv')\n"
   ]
  },
  {
   "cell_type": "markdown",
   "metadata": {},
   "source": [
    "# Données Simmulées"
   ]
  },
  {
   "cell_type": "code",
   "execution_count": null,
   "metadata": {},
   "outputs": [],
   "source": []
  },
  {
   "cell_type": "code",
   "execution_count": null,
   "metadata": {},
   "outputs": [],
   "source": []
  },
  {
   "cell_type": "markdown",
   "metadata": {},
   "source": [
    "# Forecast"
   ]
  },
  {
   "cell_type": "code",
   "execution_count": 22,
   "metadata": {},
   "outputs": [],
   "source": [
    "#Que les méthode de forecast enregistre le tout dans un csv\n",
    "# ex :\n",
    "# garch = forecast_garch(L[0])\n",
    "# for l in logo[1:]:\n",
    "#     temp= forecast_garch(l)\n",
    "#     garch=garch.join(temp)\n",
    "\n",
    "# garch.to_csv('GARCH.CSV')\n",
    "\n",
    "# De même avec les autres méthode\n"
   ]
  },
  {
   "cell_type": "code",
   "execution_count": null,
   "metadata": {},
   "outputs": [],
   "source": [
    "# garch = pandas.read_csv(r\"C:\\Users\\Geoffroy\\Desktop\\IT\\Projet Supélec\\GARCH.csv)\n",
    "# arima = pandas.read_csv(r\"C:\\Users\\Geoffroy\\Desktop\\IT\\Projet Supélec\\ARIMA.csv)\n",
    "# ml1 = pandas.read_csv(r\"C:\\Users\\Geoffroy\\Desktop\\IT\\Projet Supélec\\ML1.csv)                       \n",
    "# ml2 = pandas.read_csv(r\"C:\\Users\\Geoffroy\\Desktop\\IT\\Projet Supélec\\ML2.csv)\n",
    "# ml3 = pandas.read_csv(r\"C:\\Users\\Geoffroy\\Desktop\\IT\\Projet Supélec\\ML3.csv)"
   ]
  },
  {
   "cell_type": "markdown",
   "metadata": {},
   "source": [
    "# Détermination du score pour Data Financière"
   ]
  },
  {
   "cell_type": "markdown",
   "metadata": {},
   "source": [
    "###  Valeur Absolue"
   ]
  },
  {
   "cell_type": "markdown",
   "metadata": {},
   "source": [
    "#### GARCH"
   ]
  },
  {
   "cell_type": "code",
   "execution_count": null,
   "metadata": {},
   "outputs": [],
   "source": [
    "list_abs=[]\n",
    "for l in logo:\n",
    "    ecart = abs(data_fi[l]-garch[l]).dropna().mean()\n",
    "    list_abs.append(ecart)\n",
    "    \n",
    "Score_abs = mean(list_abs)\n",
    "\n",
    "recap['GARCH']['Valeur absolue']= score_abs\n",
    "\n",
    "# Y à t'il un moyen de créer une méthode auto(score,Méthode de forecast,type de data) pour pas avoir à le refaire pour tous les différents score et méthodes et type de data (simmulé ou réelle)\n",
    "\n"
   ]
  }
 ],
 "metadata": {
  "kernelspec": {
   "display_name": "Python 3",
   "language": "python",
   "name": "python3"
  },
  "language_info": {
   "codemirror_mode": {
    "name": "ipython",
    "version": 3
   },
   "file_extension": ".py",
   "mimetype": "text/x-python",
   "name": "python",
   "nbconvert_exporter": "python",
   "pygments_lexer": "ipython3",
   "version": "3.7.1"
  }
 },
 "nbformat": 4,
 "nbformat_minor": 2
}
