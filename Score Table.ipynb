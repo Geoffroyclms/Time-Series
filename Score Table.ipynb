{
 "cells": [
  {
   "cell_type": "code",
   "execution_count": 4,
   "metadata": {},
   "outputs": [],
   "source": [
    "import pandas as pd \n",
    "import numpy as np\n",
    "import quandl\n",
    "import datetime\n",
    "\n"
   ]
  },
  {
   "cell_type": "code",
   "execution_count": 16,
   "metadata": {},
   "outputs": [
    {
     "data": {
      "text/html": [
       "<div>\n",
       "<style scoped>\n",
       "    .dataframe tbody tr th:only-of-type {\n",
       "        vertical-align: middle;\n",
       "    }\n",
       "\n",
       "    .dataframe tbody tr th {\n",
       "        vertical-align: top;\n",
       "    }\n",
       "\n",
       "    .dataframe thead th {\n",
       "        text-align: right;\n",
       "    }\n",
       "</style>\n",
       "<table border=\"1\" class=\"dataframe\">\n",
       "  <thead>\n",
       "    <tr style=\"text-align: right;\">\n",
       "      <th></th>\n",
       "      <th>GARCH</th>\n",
       "      <th>ARIMA</th>\n",
       "      <th>ML1</th>\n",
       "      <th>ML2</th>\n",
       "      <th>ML3</th>\n",
       "    </tr>\n",
       "  </thead>\n",
       "  <tbody>\n",
       "    <tr>\n",
       "      <th>Valeur absolue</th>\n",
       "      <td>0</td>\n",
       "      <td>0</td>\n",
       "      <td>0</td>\n",
       "      <td>0</td>\n",
       "      <td>0</td>\n",
       "    </tr>\n",
       "    <tr>\n",
       "      <th>Distance Euclidienne</th>\n",
       "      <td>0</td>\n",
       "      <td>0</td>\n",
       "      <td>0</td>\n",
       "      <td>0</td>\n",
       "      <td>0</td>\n",
       "    </tr>\n",
       "    <tr>\n",
       "      <th>Score3</th>\n",
       "      <td>0</td>\n",
       "      <td>0</td>\n",
       "      <td>0</td>\n",
       "      <td>0</td>\n",
       "      <td>0</td>\n",
       "    </tr>\n",
       "  </tbody>\n",
       "</table>\n",
       "</div>"
      ],
      "text/plain": [
       "                      GARCH  ARIMA  ML1  ML2  ML3\n",
       "Valeur absolue            0      0    0    0    0\n",
       "Distance Euclidienne      0      0    0    0    0\n",
       "Score3                    0      0    0    0    0"
      ]
     },
     "execution_count": 16,
     "metadata": {},
     "output_type": "execute_result"
    }
   ],
   "source": [
    "recap = pd.DataFrame(index =[\"Valeur absolue\",\"Distance Euclidienne\",\"Score3\"],columns=['GARCH', 'ARIMA', 'ML1', 'ML2', 'ML3']).fillna(0)\n",
    "recap"
   ]
  },
  {
   "cell_type": "code",
   "execution_count": 11,
   "metadata": {},
   "outputs": [],
   "source": [
    "df = pd.read_excel(r\"C:\\Users\\Geoffroy\\Desktop\\IT\\Projet Supélec\\std25_test.xlsx\", sheetname='Sheet1')"
   ]
  },
  {
   "cell_type": "code",
   "execution_count": 12,
   "metadata": {},
   "outputs": [],
   "source": [
    "Ecartabs=abs(df['MSFT']-df[\"Prédiction\"]).dropna()\n",
    "Ecartdist=((df['MSFT']-df[\"Prédiction\"])**2).dropna()"
   ]
  },
  {
   "cell_type": "code",
   "execution_count": 21,
   "metadata": {},
   "outputs": [],
   "source": [
    "# Vabs=Ecartabs.mean()\n",
    "# Vdist=(Ecartdist.mean())**(0.5)\n",
    "# (Vabs, Vdist)"
   ]
  },
  {
   "cell_type": "markdown",
   "metadata": {},
   "source": [
    "# Données Financières"
   ]
  },
  {
   "cell_type": "code",
   "execution_count": 117,
   "metadata": {},
   "outputs": [],
   "source": [
    "S = pd.read_excel(r\"C:\\Users\\Geoffroy\\Desktop\\IT\\Projet Supélec\\Entreprises_S&P.xlsx\", sheetname='Feuil1')\n",
    "logo=list(S['Logo'])[:3] #3 mi ici pour une question de temps\n",
    "start = datetime.datetime(2005,1,1)\n",
    "end = datetime.date.today()"
   ]
  },
  {
   "cell_type": "code",
   "execution_count": 125,
   "metadata": {},
   "outputs": [],
   "source": [
    "data_fi=pd.DataFrame({logo[0] : quandl.get(\"WIKI/\" +logo[0] , start_date=start, end_date=end)['Adj. Close']})\n",
    "\n",
    "for l in logo[1:]:\n",
    "    data=pd.DataFrame({l : quandl.get(\"WIKI/\" +l , start_date=start, end_date=end)['Adj. Close']})\n",
    "    data_fi=data_fi.join(data)\n",
    "    \n",
    "\n",
    "#data_fi.to_excel('Data Financière.xlsx')\n",
    "#data_fi.to_csv('Data Financière.csv')\n"
   ]
  },
  {
   "cell_type": "markdown",
   "metadata": {},
   "source": [
    "# Données Simmulées"
   ]
  },
  {
   "cell_type": "code",
   "execution_count": null,
   "metadata": {},
   "outputs": [],
   "source": []
  },
  {
   "cell_type": "code",
   "execution_count": null,
   "metadata": {},
   "outputs": [],
   "source": []
  },
  {
   "cell_type": "markdown",
   "metadata": {},
   "source": [
    "# Forecast"
   ]
  },
  {
   "cell_type": "code",
   "execution_count": 22,
   "metadata": {},
   "outputs": [],
   "source": [
    "#Que les méthode de forecast enregistre le tout dans un csv\n",
    "# ex :\n",
    "# garch = forecast_garch(L[0])\n",
    "# for l in logo[1:]:\n",
    "#     temp= forecast_garch(l)\n",
    "#     garch=garch.join(temp)\n",
    "\n",
    "# garch.to_csv('GARCH.CSV')\n",
    "\n",
    "# De même avec les autres méthode\n"
   ]
  },
  {
   "cell_type": "code",
   "execution_count": null,
   "metadata": {},
   "outputs": [],
   "source": [
    "# garch = pandas.read_csv(r\"C:\\Users\\Geoffroy\\Desktop\\IT\\Projet Supélec\\GARCH.csv)\n",
    "# arima = pandas.read_csv(r\"C:\\Users\\Geoffroy\\Desktop\\IT\\Projet Supélec\\ARIMA.csv)\n",
    "# ml1 = pandas.read_csv(r\"C:\\Users\\Geoffroy\\Desktop\\IT\\Projet Supélec\\ML1.csv)                       \n",
    "# ml2 = pandas.read_csv(r\"C:\\Users\\Geoffroy\\Desktop\\IT\\Projet Supélec\\ML2.csv)\n",
    "# ml3 = pandas.read_csv(r\"C:\\Users\\Geoffroy\\Desktop\\IT\\Projet Supélec\\ML3.csv)"
   ]
  },
  {
   "cell_type": "markdown",
   "metadata": {},
   "source": [
    "# Détermination du score pour Data Financière"
   ]
  },
  {
   "cell_type": "markdown",
   "metadata": {},
   "source": [
    "###  Valeur Absolue"
   ]
  },
  {
   "cell_type": "markdown",
   "metadata": {},
   "source": [
    "#### GARCH"
   ]
  },
  {
   "cell_type": "code",
   "execution_count": null,
   "metadata": {},
   "outputs": [],
   "source": [
    "list_abs=[]\n",
    "for l in logo:\n",
    "    ecart = abs(data_fi[l]-garch[l]).dropna().mean()\n",
    "    list_abs.append(ecart)\n",
    "    \n",
    "Score_abs = mean(list_abs)\n",
    "\n",
    "recap['GARCH']['Valeur absolue']= score_abs\n",
    "\n",
    "# Y à t'il un moyen de créer une méthode auto(score,Méthode de forecast,type de data) pour pas avoir à le refaire pour tous les différents score et méthodes et type de data (simmulé ou réelle)\n",
    "\n"
   ]
  }
 ],
 "metadata": {
  "kernelspec": {
   "display_name": "Python 3",
   "language": "python",
   "name": "python3"
  },
  "language_info": {
   "codemirror_mode": {
    "name": "ipython",
    "version": 3
   },
   "file_extension": ".py",
   "mimetype": "text/x-python",
   "name": "python",
   "nbconvert_exporter": "python",
   "pygments_lexer": "ipython3",
   "version": "3.7.1"
  }
 },
 "nbformat": 4,
 "nbformat_minor": 2
}
